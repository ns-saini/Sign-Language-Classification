{
 "cells": [
  {
   "cell_type": "markdown",
   "metadata": {
    "id": "-RzhHdxMHG4e"
   },
   "source": [
    "## Step 1: Importing Libraries"
   ]
  },
  {
   "cell_type": "code",
   "execution_count": 2,
   "metadata": {
    "id": "oe67Op3HB2zq"
   },
   "outputs": [],
   "source": [
    "import numpy as np\n",
    "import matplotlib.pyplot as plt\n",
    "from matplotlib import image\n",
    "from matplotlib import pyplot\n",
    "import time\n",
    "import os\n",
    "import torch\n",
    "import torchvision\n",
    "from torch.utils.data import random_split\n",
    "import torchvision.models as models\n",
    "import torch.nn as nn\n",
    "import torch.nn.functional as F\n",
    "import torchvision.transforms as transforms\n",
    "from torchvision.datasets import ImageFolder"
   ]
  },
  {
   "cell_type": "markdown",
   "metadata": {
    "id": "6cJL3XWxHP-l"
   },
   "source": [
    "## Step 2: Loading dataset"
   ]
  },
  {
   "cell_type": "code",
   "execution_count": 3,
   "metadata": {
    "colab": {
     "base_uri": "https://localhost:8080/"
    },
    "id": "OpqDf6o4SLd4",
    "outputId": "c52af3a2-0661-4c09-cc93-c3cd1c0311b4"
   },
   "outputs": [],
   "source": [
    "data_dir = r\"C:\\COMP6721\\sign_alphabets\\dataset5\\B\";"
   ]
  },
  {
   "cell_type": "markdown",
   "metadata": {
    "id": "941eoGP8HW6l"
   },
   "source": [
    "### Transforming Dataset"
   ]
  },
  {
   "cell_type": "code",
   "execution_count": 4,
   "metadata": {
    "id": "yVMwQaDRKNWz"
   },
   "outputs": [],
   "source": [
    "transform = transforms.Compose([\n",
    "    transforms.Resize(256),\n",
    "    transforms.CenterCrop(224),\n",
    "    transforms.ToTensor(),\n",
    "    transforms.Normalize(mean=[0.485, 0.456, 0.406], std=[0.229, 0.224, 0.225]),\n",
    "])\n",
    "\n",
    "dataset = ImageFolder(data_dir, transform = transform)"
   ]
  },
  {
   "cell_type": "code",
   "execution_count": 21,
   "metadata": {
    "colab": {
     "base_uri": "https://localhost:8080/"
    },
    "id": "KyJ1ZgmDfZGD",
    "outputId": "2fb96a29-3422-46aa-c631-3859024a3a33"
   },
   "outputs": [
    {
     "name": "stdout",
     "output_type": "stream",
     "text": [
      "Number of classes:  24\n",
      "Number of images:  27820\n"
     ]
    }
   ],
   "source": [
    "import matplotlib.pyplot as plt\n",
    "%matplotlib inline\n",
    "\n",
    "def show_sample(img, label):\n",
    "    print(\"Label:\", dataset.classes[label], \"(Class No: \"+ str(label) + \")\")\n",
    "    plt.imshow(img.permute(1, 2, 0))\n",
    "\n",
    "num_classes = len(dataset.classes)\n",
    "print(\"Number of classes: \",len(dataset.classes))\n",
    "print(\"Number of images: \",len(dataset.samples))"
   ]
  },
  {
   "cell_type": "code",
   "execution_count": 6,
   "metadata": {
    "colab": {
     "base_uri": "https://localhost:8080/"
    },
    "id": "SuAP10t3gSr7",
    "outputId": "7b25fedf-d4c1-4518-8e5b-9badc1b013c9"
   },
   "outputs": [
    {
     "data": {
      "text/plain": [
       "(19474, 5564, 2782)"
      ]
     },
     "execution_count": 6,
     "metadata": {},
     "output_type": "execute_result"
    }
   ],
   "source": [
    "# Splitting dataset into train, validation and test\n",
    "\n",
    "train_size = int(0.7 * len(dataset))\n",
    "val_size = int(0.2 * len(dataset))\n",
    "test_size = int(0.1 * len(dataset))\n",
    "extra_size = int(0 * len(dataset))\n",
    "train_ds, val_ds, test_ds, extra_ds = random_split(dataset, [train_size, val_size, test_size, extra_size])\n",
    "len(train_ds), len(val_ds), len(test_ds)"
   ]
  },
  {
   "cell_type": "code",
   "execution_count": 7,
   "metadata": {
    "id": "7O2wX-wu9DkG"
   },
   "outputs": [],
   "source": [
    "from torch.utils.data import DataLoader\n",
    "batch_size = 64"
   ]
  },
  {
   "cell_type": "code",
   "execution_count": 8,
   "metadata": {
    "colab": {
     "base_uri": "https://localhost:8080/"
    },
    "id": "qlFunl4g9En9",
    "outputId": "cce2d747-7408-4f33-d39f-65285d9f4080"
   },
   "outputs": [],
   "source": [
    "train_dl = DataLoader(train_ds, batch_size, shuffle = True, num_workers = 4, pin_memory = True)\n",
    "test_dl = DataLoader(test_ds, batch_size, shuffle = True, num_workers = 4, pin_memory = True)\n",
    "val_dl = DataLoader(val_ds, batch_size, shuffle = True, num_workers = 4, pin_memory = True)"
   ]
  },
  {
   "cell_type": "code",
   "execution_count": 9,
   "metadata": {
    "id": "qh-1GE_Y9Kuf"
   },
   "outputs": [],
   "source": [
    "from torchvision.utils import make_grid\n",
    "\n",
    "def show_batch(dl):\n",
    "    for images, labels in dl:\n",
    "        fig, ax = plt.subplots(figsize=(12, 6))\n",
    "        ax.set_xticks([])\n",
    "        ax.set_yticks([])\n",
    "        ax.imshow(make_grid(images, nrow = 16).permute(1, 2, 0))\n",
    "        break\n",
    "\n",
    "# show_batch(train_dl)"
   ]
  },
  {
   "cell_type": "code",
   "execution_count": 10,
   "metadata": {
    "id": "k6Ys9Jz09YQj"
   },
   "outputs": [],
   "source": [
    "def accuracy(outputs, labels):\n",
    "    _, preds = torch.max(outputs, dim=1)\n",
    "    return torch.tensor(torch.sum(preds == labels).item() / len(preds))\n",
    "\n",
    "class ImageClassificationBase(nn.Module):\n",
    "    def training_step(self, batch):\n",
    "        images, labels = batch \n",
    "        out = self(images)                  # Generate predictions\n",
    "        loss = F.cross_entropy(out, labels) # Calculate loss\n",
    "        acc = accuracy(out, labels)           # Calculate accuracy\n",
    "        return {'train_loss': loss.detach(), 'train_acc': acc}\n",
    "\n",
    "    def testing_step(self, batch):\n",
    "        images, labels = batch \n",
    "        out = self(images)                  # Generate predictions\n",
    "        loss = F.cross_entropy(out, labels) # Calculate loss\n",
    "        acc = accuracy(out, labels)           # Calculate accuracy\n",
    "        return {'test_loss': loss.detach(), 'test_acc': acc}\n",
    "    \n",
    "    def validation_step(self, batch):\n",
    "        images, labels = batch \n",
    "        out = self(images)                    # Generate predictions\n",
    "        loss = F.cross_entropy(out, labels)   # Calculate loss\n",
    "        acc = accuracy(out, labels)           # Calculate accuracy\n",
    "        return {'val_loss': loss.detach(), 'val_acc': acc}\n",
    "\n",
    "    def training_epoch_end(self, outputs):\n",
    "        batch_losses = [x['train_loss'] for x in outputs]\n",
    "        epoch_loss = torch.stack(batch_losses).mean()   # Combine losses\n",
    "        batch_accs = [x['train_acc'] for x in outputs]\n",
    "        epoch_acc = torch.stack(batch_accs).mean()      # Combine accuracies\n",
    "        return {'train_loss': epoch_loss.item(), 'train_acc': epoch_acc.item()}\n",
    "       \n",
    "    def testing_epoch_end(self, outputs):\n",
    "        batch_losses = [x['test_loss'] for x in outputs]\n",
    "        epoch_loss = torch.stack(batch_losses).mean()   # Combine losses\n",
    "        batch_accs = [x['test_acc'] for x in outputs]\n",
    "        epoch_acc = torch.stack(batch_accs).mean()      # Combine accuracies\n",
    "        return {'test_loss': epoch_loss.item(), 'test_acc': epoch_acc.item()}\n",
    "       \n",
    "    def validation_epoch_end(self, outputs):\n",
    "        batch_losses = [x['val_loss'] for x in outputs]\n",
    "        epoch_loss = torch.stack(batch_losses).mean()   # Combine losses\n",
    "        batch_accs = [x['val_acc'] for x in outputs]\n",
    "        epoch_acc = torch.stack(batch_accs).mean()      # Combine accuracies\n",
    "        return {'val_loss': epoch_loss.item(), 'val_acc': epoch_acc.item()}\n",
    "    \n",
    "    def epoch_end(self, epoch, result):\n",
    "        print(\"Epoch {}: train_loss: {:.4f}, test_loss: {:.4f}, val_loss: {:.4f}, train_acc: {:.4f}, test_acc: {:.4f}, val_acc: {:.4f}\".format(\n",
    "            epoch+1, result['train_loss'], result['test_loss'], result['val_loss'], result['train_acc'], result['test_acc'], result['val_acc']))"
   ]
  },
  {
   "cell_type": "code",
   "execution_count": 23,
   "metadata": {
    "id": "LC9v7Y929hZW"
   },
   "outputs": [],
   "source": [
    "from torchvision.models import resnet18, ResNet18_Weights\n",
    "\n",
    "\n",
    "model = resnet18(pretrained=True)\n",
    "\n",
    "model.fc = nn.Linear(model.fc.in_features, num_classes)"
   ]
  },
  {
   "cell_type": "code",
   "execution_count": 24,
   "metadata": {
    "id": "tvv2iuVz9p8H"
   },
   "outputs": [],
   "source": [
    "def get_default_device():\n",
    "    \"\"\"Pick GPU if available, else CPU\"\"\"\n",
    "    if torch.cuda.is_available():\n",
    "        return torch.device('cuda')\n",
    "    else:\n",
    "        return torch.device('cpu')\n",
    "    \n",
    "def to_device(data, device):\n",
    "    \"\"\"Move tensor(s) to chosen device\"\"\"\n",
    "    if isinstance(data, (list,tuple)):\n",
    "        return [to_device(x, device) for x in data]\n",
    "    return data.to(device, non_blocking=True)\n",
    "\n",
    "class DeviceDataLoader():\n",
    "    \"\"\"Wrap a dataloader to move data to a device\"\"\"\n",
    "    def __init__(self, dl, device):\n",
    "        self.dl = dl\n",
    "        self.device = device\n",
    "        \n",
    "    def __iter__(self):\n",
    "        \"\"\"Yield a batch of data after moving it to device\"\"\"\n",
    "        for b in self.dl: \n",
    "            yield to_device(b, self.device)\n",
    "\n",
    "    def __len__(self):\n",
    "        \"\"\"Number of batches\"\"\"\n",
    "        return len(self.dl)"
   ]
  },
  {
   "cell_type": "code",
   "execution_count": 25,
   "metadata": {
    "colab": {
     "base_uri": "https://localhost:8080/"
    },
    "id": "fm1YoCHW9sGG",
    "outputId": "14007fa1-c3ed-4e4e-cacf-c7f00103e7d2"
   },
   "outputs": [
    {
     "data": {
      "text/plain": [
       "device(type='cuda')"
      ]
     },
     "execution_count": 25,
     "metadata": {},
     "output_type": "execute_result"
    }
   ],
   "source": [
    "device = get_default_device()\n",
    "device"
   ]
  },
  {
   "cell_type": "code",
   "execution_count": 26,
   "metadata": {
    "colab": {
     "base_uri": "https://localhost:8080/"
    },
    "id": "lqixFKUN92i2",
    "outputId": "b46bdd3e-bc69-43fd-9e29-232b7d22390e"
   },
   "outputs": [
    {
     "data": {
      "text/plain": [
       "ResNet(\n",
       "  (conv1): Conv2d(3, 64, kernel_size=(7, 7), stride=(2, 2), padding=(3, 3), bias=False)\n",
       "  (bn1): BatchNorm2d(64, eps=1e-05, momentum=0.1, affine=True, track_running_stats=True)\n",
       "  (relu): ReLU(inplace=True)\n",
       "  (maxpool): MaxPool2d(kernel_size=3, stride=2, padding=1, dilation=1, ceil_mode=False)\n",
       "  (layer1): Sequential(\n",
       "    (0): BasicBlock(\n",
       "      (conv1): Conv2d(64, 64, kernel_size=(3, 3), stride=(1, 1), padding=(1, 1), bias=False)\n",
       "      (bn1): BatchNorm2d(64, eps=1e-05, momentum=0.1, affine=True, track_running_stats=True)\n",
       "      (relu): ReLU(inplace=True)\n",
       "      (conv2): Conv2d(64, 64, kernel_size=(3, 3), stride=(1, 1), padding=(1, 1), bias=False)\n",
       "      (bn2): BatchNorm2d(64, eps=1e-05, momentum=0.1, affine=True, track_running_stats=True)\n",
       "    )\n",
       "    (1): BasicBlock(\n",
       "      (conv1): Conv2d(64, 64, kernel_size=(3, 3), stride=(1, 1), padding=(1, 1), bias=False)\n",
       "      (bn1): BatchNorm2d(64, eps=1e-05, momentum=0.1, affine=True, track_running_stats=True)\n",
       "      (relu): ReLU(inplace=True)\n",
       "      (conv2): Conv2d(64, 64, kernel_size=(3, 3), stride=(1, 1), padding=(1, 1), bias=False)\n",
       "      (bn2): BatchNorm2d(64, eps=1e-05, momentum=0.1, affine=True, track_running_stats=True)\n",
       "    )\n",
       "  )\n",
       "  (layer2): Sequential(\n",
       "    (0): BasicBlock(\n",
       "      (conv1): Conv2d(64, 128, kernel_size=(3, 3), stride=(2, 2), padding=(1, 1), bias=False)\n",
       "      (bn1): BatchNorm2d(128, eps=1e-05, momentum=0.1, affine=True, track_running_stats=True)\n",
       "      (relu): ReLU(inplace=True)\n",
       "      (conv2): Conv2d(128, 128, kernel_size=(3, 3), stride=(1, 1), padding=(1, 1), bias=False)\n",
       "      (bn2): BatchNorm2d(128, eps=1e-05, momentum=0.1, affine=True, track_running_stats=True)\n",
       "      (downsample): Sequential(\n",
       "        (0): Conv2d(64, 128, kernel_size=(1, 1), stride=(2, 2), bias=False)\n",
       "        (1): BatchNorm2d(128, eps=1e-05, momentum=0.1, affine=True, track_running_stats=True)\n",
       "      )\n",
       "    )\n",
       "    (1): BasicBlock(\n",
       "      (conv1): Conv2d(128, 128, kernel_size=(3, 3), stride=(1, 1), padding=(1, 1), bias=False)\n",
       "      (bn1): BatchNorm2d(128, eps=1e-05, momentum=0.1, affine=True, track_running_stats=True)\n",
       "      (relu): ReLU(inplace=True)\n",
       "      (conv2): Conv2d(128, 128, kernel_size=(3, 3), stride=(1, 1), padding=(1, 1), bias=False)\n",
       "      (bn2): BatchNorm2d(128, eps=1e-05, momentum=0.1, affine=True, track_running_stats=True)\n",
       "    )\n",
       "  )\n",
       "  (layer3): Sequential(\n",
       "    (0): BasicBlock(\n",
       "      (conv1): Conv2d(128, 256, kernel_size=(3, 3), stride=(2, 2), padding=(1, 1), bias=False)\n",
       "      (bn1): BatchNorm2d(256, eps=1e-05, momentum=0.1, affine=True, track_running_stats=True)\n",
       "      (relu): ReLU(inplace=True)\n",
       "      (conv2): Conv2d(256, 256, kernel_size=(3, 3), stride=(1, 1), padding=(1, 1), bias=False)\n",
       "      (bn2): BatchNorm2d(256, eps=1e-05, momentum=0.1, affine=True, track_running_stats=True)\n",
       "      (downsample): Sequential(\n",
       "        (0): Conv2d(128, 256, kernel_size=(1, 1), stride=(2, 2), bias=False)\n",
       "        (1): BatchNorm2d(256, eps=1e-05, momentum=0.1, affine=True, track_running_stats=True)\n",
       "      )\n",
       "    )\n",
       "    (1): BasicBlock(\n",
       "      (conv1): Conv2d(256, 256, kernel_size=(3, 3), stride=(1, 1), padding=(1, 1), bias=False)\n",
       "      (bn1): BatchNorm2d(256, eps=1e-05, momentum=0.1, affine=True, track_running_stats=True)\n",
       "      (relu): ReLU(inplace=True)\n",
       "      (conv2): Conv2d(256, 256, kernel_size=(3, 3), stride=(1, 1), padding=(1, 1), bias=False)\n",
       "      (bn2): BatchNorm2d(256, eps=1e-05, momentum=0.1, affine=True, track_running_stats=True)\n",
       "    )\n",
       "  )\n",
       "  (layer4): Sequential(\n",
       "    (0): BasicBlock(\n",
       "      (conv1): Conv2d(256, 512, kernel_size=(3, 3), stride=(2, 2), padding=(1, 1), bias=False)\n",
       "      (bn1): BatchNorm2d(512, eps=1e-05, momentum=0.1, affine=True, track_running_stats=True)\n",
       "      (relu): ReLU(inplace=True)\n",
       "      (conv2): Conv2d(512, 512, kernel_size=(3, 3), stride=(1, 1), padding=(1, 1), bias=False)\n",
       "      (bn2): BatchNorm2d(512, eps=1e-05, momentum=0.1, affine=True, track_running_stats=True)\n",
       "      (downsample): Sequential(\n",
       "        (0): Conv2d(256, 512, kernel_size=(1, 1), stride=(2, 2), bias=False)\n",
       "        (1): BatchNorm2d(512, eps=1e-05, momentum=0.1, affine=True, track_running_stats=True)\n",
       "      )\n",
       "    )\n",
       "    (1): BasicBlock(\n",
       "      (conv1): Conv2d(512, 512, kernel_size=(3, 3), stride=(1, 1), padding=(1, 1), bias=False)\n",
       "      (bn1): BatchNorm2d(512, eps=1e-05, momentum=0.1, affine=True, track_running_stats=True)\n",
       "      (relu): ReLU(inplace=True)\n",
       "      (conv2): Conv2d(512, 512, kernel_size=(3, 3), stride=(1, 1), padding=(1, 1), bias=False)\n",
       "      (bn2): BatchNorm2d(512, eps=1e-05, momentum=0.1, affine=True, track_running_stats=True)\n",
       "    )\n",
       "  )\n",
       "  (avgpool): AdaptiveAvgPool2d(output_size=(1, 1))\n",
       "  (fc): Linear(in_features=512, out_features=24, bias=True)\n",
       ")"
      ]
     },
     "execution_count": 26,
     "metadata": {},
     "output_type": "execute_result"
    }
   ],
   "source": [
    "train_dl = DeviceDataLoader(train_dl, device)\n",
    "test_dl = DeviceDataLoader(test_dl, device)\n",
    "val_dl = DeviceDataLoader(val_dl, device)\n",
    "to_device(model, device)"
   ]
  },
  {
   "cell_type": "code",
   "execution_count": 27,
   "metadata": {
    "id": "cIPxBpQO96Wh"
   },
   "outputs": [],
   "source": [
    "from torch.nn.modules import loss\n",
    "from torch.optim.adam import Adam\n",
    "num_epochs = 10\n",
    "lr =  0.001\n",
    "optimizer = torch.optim.Adam(model.parameters(), lr=lr)\n",
    "loss_function = nn.CrossEntropyLoss();"
   ]
  },
  {
   "cell_type": "code",
   "execution_count": 29,
   "metadata": {
    "colab": {
     "base_uri": "https://localhost:8080/"
    },
    "id": "MZqL_Bvw97Qf",
    "outputId": "9d1685a6-7a1e-4c05-f249-8aab5ddcba23"
   },
   "outputs": [
    {
     "name": "stdout",
     "output_type": "stream",
     "text": [
      "Epoch[1](61 sec)  Train Loss: 0.0944, Train Accuracy:  96.7546, Val Loss: 0.0706, Val Accuracy: 91.5708\n",
      "\n",
      "Epoch[2](61 sec)  Train Loss: 0.0854, Train Accuracy:  97.0884, Val Loss: 0.1268, Val Accuracy: 94.5543\n",
      "\n",
      "Epoch[3](61 sec)  Train Loss: 0.0698, Train Accuracy:  97.5917, Val Loss: 0.0033, Val Accuracy: 94.3746\n",
      "\n",
      "Epoch[4](63 sec)  Train Loss: 0.0482, Train Accuracy:  98.2027, Val Loss: 0.0805, Val Accuracy: 95.3091\n",
      "\n",
      "Epoch[5](62 sec)  Train Loss: 0.0569, Train Accuracy:  98.1514, Val Loss: 0.0578, Val Accuracy: 94.6441\n",
      "\n",
      "Epoch[6](62 sec)  Train Loss: 0.0504, Train Accuracy:  98.2027, Val Loss: 0.2024, Val Accuracy: 93.7455\n",
      "\n",
      "Epoch[7](62 sec)  Train Loss: 0.0538, Train Accuracy:  98.1360, Val Loss: 0.0142, Val Accuracy: 94.4464\n",
      "\n",
      "Epoch[8](63 sec)  Train Loss: 0.0415, Train Accuracy:  98.6084, Val Loss: 0.0029, Val Accuracy: 95.2552\n",
      "\n",
      "Epoch[9](63 sec)  Train Loss: 0.0469, Train Accuracy:  98.4698, Val Loss: 0.1204, Val Accuracy: 95.0216\n",
      "\n",
      "Epoch[10](63 sec)  Train Loss: 0.0396, Train Accuracy:  98.6752, Val Loss: 0.0028, Val Accuracy: 94.5902\n",
      "\n",
      "######## Training Finished in 621 seconds ###########\n"
     ]
    }
   ],
   "source": [
    "from torch.autograd import Variable\n",
    "#Model Training and saving best Model\n",
    "best_accuracy = 0.0\n",
    "train_acc_list = []\n",
    "test_acc_list = []\n",
    "val_acc_list = []\n",
    "train_loss_list = []\n",
    "test_loss_list = []\n",
    "val_loss_list = []\n",
    "epo = []\n",
    "t1 = time.time()\n",
    "for epoch in range(num_epochs):\n",
    "  #evaluation and training on training dataset\n",
    "  model.train()\n",
    "  train_acc = 0.0\n",
    "  train_loss = 0.0\n",
    "  t2 = time.time()\n",
    "\n",
    "  for i, (images, labels) in enumerate(train_dl):\n",
    "    if(torch.cuda.is_available()):\n",
    "      images = Variable(images.cuda())\n",
    "      labels = Variable(labels.cuda())\n",
    "      \n",
    "    optimizer.zero_grad()\n",
    "    outputs = model(images)\n",
    "    loss = loss_function(outputs, labels)\n",
    "    loss.backward()\n",
    "    optimizer.step()\n",
    "    # scheduler.step()\n",
    "\n",
    "    train_loss += loss.cpu().data*images.size(0)\n",
    "    _,prediction=torch.max(outputs.data,1)\n",
    "\n",
    "    train_acc += int(torch.sum(prediction==labels.data))\n",
    "\n",
    "  train_acc = (train_acc / train_size)*100\n",
    "  train_loss = train_loss / train_size\n",
    "      \n",
    "  #Evaluation on testing dataset\n",
    "  model.eval()\n",
    "\n",
    "  val_acc = 0.0\n",
    "  correct2 = 0\n",
    "  total2 = 0\n",
    "  val_loss = 0.0\n",
    "\n",
    "  for i, (images, labels) in enumerate(val_dl):\n",
    "    if(torch.cuda.is_available()):\n",
    "      images = Variable(images.cuda())\n",
    "      labels = Variable(labels.cuda())\n",
    "\n",
    "    outputs = model(images)\n",
    "    val_loss += loss.cpu().data*images.size(0)\n",
    "    _,prediction=torch.max(outputs.data,1)\n",
    "    val_acc += int(torch.sum(prediction==labels.data))\n",
    "    total2 += labels.size(0)\n",
    "    correct2 += (prediction == labels).sum().item()\n",
    "\n",
    "  val_loss = val_loss / val_size\n",
    "  val_acc = (val_acc / val_size)*100\n",
    "  print('Epoch[{}]({:.0f} sec)  Train Loss: {:.4f}, Train Accuracy:  {:.4f}, Val Loss: {:.4f}, Val Accuracy: {:.4f}\\n'.format(epoch+1,time.time()-t2,train_loss,train_acc,val_loss,val_acc))\n",
    "  train_acc_list.append(train_acc)\n",
    "  # test_acc_list.append(test_acc)\n",
    "  val_acc_list.append(val_acc)\n",
    "  train_loss_list.append(train_loss)\n",
    "  # test_loss_list.append(test_loss)\n",
    "  val_loss_list.append(val_loss)\n",
    "  epo.append(epoch+1)\n",
    "\n",
    "  if(val_acc>best_accuracy):\n",
    "    torch.save(model.state_dict(), 'best_checkpoint.model')\n",
    "    best_accuracy = val_acc\n",
    "\n",
    "torch.save(model.state_dict(), 'Resnet18-dataset3-batch_size'+str(batch_size)+ 'lr-' + str(lr)+'epochs-'+str(num_epochs)+'.pth')\n",
    "\n",
    "print(\"######## Training Finished in {:.0f} seconds ###########\".format(time.time()-t1))\n",
    "# print('Test Accuracy of the model on the {} test images: {} %'.format(total1, (correct1 / total1) * 100))\n",
    "# print('Test Accuracy of the model on the {} validation images: {} %'.format(total2, (correct2 / total2) * 100))"
   ]
  },
  {
   "cell_type": "code",
   "execution_count": 30,
   "metadata": {
    "colab": {
     "base_uri": "https://localhost:8080/",
     "height": 627
    },
    "id": "2tijIW609_yC",
    "outputId": "832bec56-193e-4a98-9f30-1323331e88b3"
   },
   "outputs": [
    {
     "data": {
      "image/png": "[encoded data removed]",
      "text/plain": [
       "<Figure size 500x300 with 1 Axes>"
      ]
     },
     "metadata": {},
     "output_type": "display_data"
    },
    {
     "data": {
      "image/png": "[encoded data removed]",
      "text/plain": [
       "<Figure size 500x300 with 1 Axes>"
      ]
     },
     "metadata": {},
     "output_type": "display_data"
    }
   ],
   "source": [
    "plt.rcParams[\"figure.figsize\"] = (5,3)\n",
    "fig, ax = plt.subplots()\n",
    "plt.plot(epo, train_acc_list, label='Train Acc')\n",
    "plt.plot(epo, val_acc_list, label='Val Acc')\n",
    "plt.legend()\n",
    "plt.xlabel('Epoch')\n",
    "plt.ylabel('Accuracy')\n",
    "plt.grid()\n",
    "plt.show()\n",
    "\n",
    "fig, ax = plt.subplots()\n",
    "plt.plot(epo, train_loss_list, label='Train Loss')\n",
    "plt.plot(epo, val_loss_list, label='Val Loss')\n",
    "plt.legend()\n",
    "plt.xlabel('Epoch')\n",
    "plt.ylabel('Loss')\n",
    "plt.title('Accuracy & Loss vs. No. of epochs');\n",
    "\n",
    "plt.grid()\n",
    "plt.show()"
   ]
  },
  {
   "cell_type": "markdown",
   "metadata": {
    "id": "ECkvhX7aKPZ6"
   },
   "source": [
    "## Evaluation"
   ]
  },
  {
   "cell_type": "code",
   "execution_count": 32,
   "metadata": {
    "colab": {
     "base_uri": "https://localhost:8080/",
     "height": 1000
    },
    "id": "BRSb8N7T_okT",
    "outputId": "b20469bc-6bc2-495f-a03a-2540df7e6e0d"
   },
   "outputs": [
    {
     "name": "stdout",
     "output_type": "stream",
     "text": [
      "Test Accuracy: 94.82386772106398\n"
     ]
    },
    {
     "data": {
      "image/png": "[encoded data removed]",
      "text/plain": [
       "<Figure size 1000x1000 with 2 Axes>"
      ]
     },
     "metadata": {},
     "output_type": "display_data"
    },
    {
     "name": "stdout",
     "output_type": "stream",
     "text": [
      "              precision    recall  f1-score   support\n",
      "\n",
      "           a       0.99      0.96      0.98       104\n",
      "           b       0.96      0.99      0.98       102\n",
      "           c       0.93      0.93      0.93       122\n",
      "           d       1.00      0.96      0.98       110\n",
      "           e       0.98      0.98      0.98       123\n",
      "           f       0.98      0.97      0.97       100\n",
      "           g       0.88      0.94      0.91       106\n",
      "           h       0.90      0.94      0.92       103\n",
      "           i       0.98      0.92      0.95       110\n",
      "           k       0.95      0.97      0.96       147\n",
      "           l       0.98      1.00      0.99        88\n",
      "           m       0.82      0.89      0.86       120\n",
      "           n       0.90      0.84      0.87       116\n",
      "           o       1.00      0.95      0.97       112\n",
      "           p       0.95      0.98      0.97       123\n",
      "           q       0.98      0.95      0.96        96\n",
      "           r       0.95      0.94      0.95       108\n",
      "           s       0.96      0.93      0.95       164\n",
      "           t       0.88      0.93      0.90       117\n",
      "           u       0.95      0.92      0.94       117\n",
      "           v       0.98      0.94      0.96       127\n",
      "           w       0.97      0.96      0.97       133\n",
      "           x       0.94      0.97      0.95       123\n",
      "           y       0.99      0.98      0.99       111\n",
      "\n",
      "    accuracy                           0.95      2782\n",
      "   macro avg       0.95      0.95      0.95      2782\n",
      "weighted avg       0.95      0.95      0.95      2782\n",
      "\n"
     ]
    }
   ],
   "source": [
    "from sklearn.metrics import accuracy_score, confusion_matrix, classification_report\n",
    "import seaborn as sns\n",
    "from torchvision.models import resnet18\n",
    "\n",
    "test_model = resnet18(num_classes=24)\n",
    "test_model.load_state_dict(torch.load('C:\\COMP6721\\ASL_to_Text_Classification\\Scratch\\Resnet18-TL-dataset3-batch_size64lr-0.001epochs-10.pth'))\n",
    "test_model.eval()\n",
    "\n",
    "to_device(test_model, device)\n",
    "\n",
    "# print(test_model)\n",
    "\n",
    "test_preds = []\n",
    "test_labels = []\n",
    "\n",
    "for data in test_dl:\n",
    "    images, labels = data[0].to(device), data[1].to(device)\n",
    "    output = test_model(images)\n",
    "    output = (torch.max(torch.exp(output), 1)[1]).data.cpu().numpy()\n",
    "    test_preds.extend(output) \n",
    "    labels = labels.data.cpu().numpy()\n",
    "    test_labels.extend(labels) \n",
    "\n",
    "accuracy = accuracy_score(test_preds, test_labels)*100\n",
    "print('Test Accuracy: {}'.format(accuracy))\n",
    "\n",
    "target_names = list(dataset.class_to_idx.keys())\n",
    "\n",
    "fig, ax = plt.subplots(figsize=(10,10))\n",
    "cm = confusion_matrix(test_labels, test_preds)\n",
    "sns.heatmap(cm, annot=True, cmap='Oranges', fmt='g', xticklabels=target_names, yticklabels=target_names, ax=ax)\n",
    "plt.xlabel('Predicted')\n",
    "plt.ylabel('Actual')\n",
    "plt.show()\n",
    "\n",
    "print(classification_report(test_labels, test_preds, target_names=target_names))"
   ]
  },
  {
   "cell_type": "markdown",
   "metadata": {},
   "source": [
    "## TSNE"
   ]
  },
  {
   "cell_type": "code",
   "execution_count": null,
   "metadata": {
    "id": "2wwwhgwVFZGC"
   },
   "outputs": [
    {
     "name": "stdout",
     "output_type": "stream",
     "text": [
      "(19474, 512)\n",
      "[t-SNE] Computing 91 nearest neighbors...\n",
      "[t-SNE] Indexed 19474 samples in 0.004s...\n",
      "[t-SNE] Computed neighbors for 19474 samples in 4.348s...\n",
      "[t-SNE] Computed conditional probabilities for sample 1000 / 19474\n",
      "[t-SNE] Computed conditional probabilities for sample 2000 / 19474\n",
      "[t-SNE] Computed conditional probabilities for sample 3000 / 19474\n",
      "[t-SNE] Computed conditional probabilities for sample 4000 / 19474\n",
      "[t-SNE] Computed conditional probabilities for sample 5000 / 19474\n",
      "[t-SNE] Computed conditional probabilities for sample 6000 / 19474\n",
      "[t-SNE] Computed conditional probabilities for sample 7000 / 19474\n",
      "[t-SNE] Computed conditional probabilities for sample 8000 / 19474\n",
      "[t-SNE] Computed conditional probabilities for sample 9000 / 19474\n",
      "[t-SNE] Computed conditional probabilities for sample 10000 / 19474\n",
      "[t-SNE] Computed conditional probabilities for sample 11000 / 19474\n",
      "[t-SNE] Computed conditional probabilities for sample 12000 / 19474\n",
      "[t-SNE] Computed conditional probabilities for sample 13000 / 19474\n",
      "[t-SNE] Computed conditional probabilities for sample 14000 / 19474\n",
      "[t-SNE] Computed conditional probabilities for sample 15000 / 19474\n",
      "[t-SNE] Computed conditional probabilities for sample 16000 / 19474\n",
      "[t-SNE] Computed conditional probabilities for sample 17000 / 19474\n",
      "[t-SNE] Computed conditional probabilities for sample 18000 / 19474\n",
      "[t-SNE] Computed conditional probabilities for sample 19000 / 19474\n",
      "[t-SNE] Computed conditional probabilities for sample 19474 / 19474\n",
      "[t-SNE] Mean sigma: 0.000000\n",
      "[t-SNE] KL divergence after 250 iterations with early exaggeration: 73.048859\n"
     ]
    }
   ],
   "source": [
    "import torch\n",
    "import numpy as np\n",
    "from sklearn.manifold import TSNE\n",
    "import matplotlib.pyplot as plt\n",
    "\n",
    "model.to('cuda')\n",
    "\n",
    "model = torch.nn.Sequential(*(list(test_model.children())[:-1]))\n",
    "\n",
    "model.eval()\n",
    "\n",
    "features = []\n",
    "labels = []\n",
    "i = 0\n",
    "for images, target in train_dl:\n",
    "    images = images.to('cuda')\n",
    "    with torch.no_grad():\n",
    "        output = model(images)\n",
    "        features.append(output.squeeze().cpu().numpy())\n",
    "        labels.append(target.cpu().numpy())\n",
    "    \n",
    "    \n",
    "features = np.concatenate(features, axis=0)\n",
    "labels = np.concatenate(labels, axis=0)\n",
    "\n",
    "# reshape the features array to have two dimensions\n",
    "n_samples = features.shape[0]\n",
    "n_features = np.prod(features.shape[1:])\n",
    "features = features.reshape((n_samples, n_features))\n",
    "print(features.shape)\n",
    "tsne = TSNE(n_components=2, verbose=1, perplexity=30, n_iter=2000)\n",
    "tsne_features = tsne.fit_transform(features)\n",
    "\n",
    "target_names = list(dataset.class_to_idx.keys())"
   ]
  },
  {
   "cell_type": "code",
   "execution_count": null,
   "metadata": {},
   "outputs": [],
   "source": [
    "import matplotlib.colors as mcolors\n",
    "colors = [\n",
    "    (0.8941, 0.1020, 0.1098),  \n",
    "    (0.2157, 0.4941, 0.7216),  \n",
    "    (0.3020, 0.6863, 0.2902), \n",
    "    (0.5961, 0.3059, 0.6392), \n",
    "    (1.0000, 0.4980, 0.0000), \n",
    "    (1.0000, 1.0000, 0.2000),  \n",
    "    (0.6510, 0.3373, 0.1569),  \n",
    "    (0.9686, 0.5059, 0.7490), \n",
    "    (0.6000, 0.6000, 0.6000), \n",
    "    (1.0000, 0.6902, 0.3765),  \n",
    "    (0.1647, 0.6314, 0.5961),  \n",
    "    (0.9294, 0.6902, 0.1294), \n",
    "    (0.7373, 0.7412, 0.1333),  \n",
    "    (0.7412, 0.5176, 0.1490),  \n",
    "    (0.3725, 0.6196, 0.6275), \n",
    "    (0.8353, 0.3686, 0.0000),  \n",
    "    (0.0000, 0.5098, 0.0000), \n",
    "    (0.0000, 0.3922, 0.0000),  \n",
    "    (0.0000, 0.4118, 0.3922),  \n",
    "    (0.5020, 0.2510, 0.0000),  \n",
    "    (0.0000, 0.5020, 0.5020), \n",
    "    (0.0000, 0.2510, 0.5020),  \n",
    "    (0.5020, 0.0000, 0.5020),  \n",
    "    (0.5020, 0.2510, 0.2510),  \n",
    "]\n",
    "\n",
    "cmap = mcolors.ListedColormap(colors)\n",
    "\n",
    "\n",
    "plt.figure(figsize=(10, 10))\n",
    "for i, target_name in enumerate(target_names):\n",
    "    indices = labels == i\n",
    "    color = cmap(i)  \n",
    "    plt.scatter(tsne_features[indices, 0], tsne_features[indices, 1], color=color, label=target_name)\n",
    "plt.legend()\n",
    "plt.show()"
   ]
  },
  {
   "cell_type": "code",
   "execution_count": null,
   "metadata": {},
   "outputs": [],
   "source": []
  }
 ],
 "metadata": {
  "accelerator": "GPU",
  "colab": {
   "machine_shape": "hm",
   "provenance": []
  },
  "gpuClass": "premium",
  "kernelspec": {
   "display_name": "Python 3 (ipykernel)",
   "language": "python",
   "name": "python3"
  },
  "language_info": {
   "codemirror_mode": {
    "name": "ipython",
    "version": 3
   },
   "file_extension": ".py",
   "mimetype": "text/x-python",
   "name": "python",
   "nbconvert_exporter": "python",
   "pygments_lexer": "ipython3",
   "version": "3.9.2rc1"
  },
  "vscode": {
   "interpreter": {
    "hash": "aee8b7b246df8f9039afb4144a1f6fd8d2ca17a180786b69acc140d282b71a49"
   }
  }
 },
 "nbformat": 4,
 "nbformat_minor": 1
}
