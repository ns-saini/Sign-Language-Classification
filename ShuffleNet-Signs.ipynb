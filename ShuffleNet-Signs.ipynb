{
 "cells": [
  {
   "cell_type": "code",
   "execution_count": 1,
   "id": "1fec4df2",
   "metadata": {},
   "outputs": [],
   "source": [
    "import torch\n",
    "import torch.nn as nn\n",
    "import torch.optim as optim\n",
    "import torchvision\n",
    "from torchvision import datasets, models, transforms\n",
    "import torch.hub \n",
    "import numpy as np\n",
    "import matplotlib.pyplot as plt\n",
    "import cv2\n",
    "import time\n",
    "import os\n",
    "from torchvision.io import read_image\n",
    "from torch.utils.data import Dataset, DataLoader\n",
    "from torch.optim import Adam\n",
    "\n",
    "device = torch.device(\"cuda:0\" if torch.cuda.is_available() else \"cpu\") # device object"
   ]
  },
  {
   "cell_type": "code",
   "execution_count": 2,
   "id": "09a49eca",
   "metadata": {},
   "outputs": [
    {
     "name": "stderr",
     "output_type": "stream",
     "text": [
      "Using cache found in C:\\Users\\nisha/.cache\\torch\\hub\\pytorch_vision_v0.10.0\n",
      "c:\\users\\nisha\\appdata\\local\\programs\\python\\python39\\lib\\site-packages\\torchvision\\models\\_utils.py:208: UserWarning: The parameter 'pretrained' is deprecated since 0.13 and may be removed in the future, please use 'weights' instead.\n",
      "  warnings.warn(\n",
      "c:\\users\\nisha\\appdata\\local\\programs\\python\\python39\\lib\\site-packages\\torchvision\\models\\_utils.py:223: UserWarning: Arguments other than a weight enum or `None` for 'weights' are deprecated since 0.13 and may be removed in the future. The current behavior is equivalent to passing `weights=None`.\n",
      "  warnings.warn(msg)\n"
     ]
    }
   ],
   "source": [
    "model = torch.hub.load('pytorch/vision:v0.10.0', 'shufflenet_v2_x1_0', pretrained=False)\n",
    "num_features = model.fc.in_features     #extract fc layers features\n",
    "model.fc = nn.Linear(num_features, 3 )"
   ]
  },
  {
   "cell_type": "code",
   "execution_count": 5,
   "id": "393e956e",
   "metadata": {},
   "outputs": [],
   "source": [
    "preprocess = transforms.Compose([\n",
    "    transforms.Resize(256),\n",
    "    transforms.CenterCrop(224),\n",
    "    transforms.ToTensor(),\n",
    "    transforms.Normalize(mean=[0.485, 0.456, 0.406], std=[0.229, 0.224, 0.225]),\n",
    "])"
   ]
  },
  {
   "cell_type": "code",
   "execution_count": 14,
   "id": "571af591",
   "metadata": {},
   "outputs": [],
   "source": [
    "dataset = datasets.ImageFolder(r\"C:\\Users\\nisha\\COMP6721\\signs_train\\asl_alphabet_train\\asl_alphabet_train\", transform=preprocess)\n",
    "train_size = int(0.8 * len(dataset))\n",
    "test_size = len(dataset) - train_size\n",
    "train_dataset, test_dataset = torch.utils.data.random_split(dataset, [train_size, test_size])"
   ]
  },
  {
   "cell_type": "code",
   "execution_count": null,
   "id": "030e01d8",
   "metadata": {},
   "outputs": [],
   "source": []
  },
  {
   "cell_type": "code",
   "execution_count": 15,
   "id": "0561072b",
   "metadata": {},
   "outputs": [],
   "source": [
    "optimizer = Adam(model.parameters(), lr=0.001)\n",
    "criterion = nn.CrossEntropyLoss()"
   ]
  },
  {
   "cell_type": "code",
   "execution_count": 16,
   "id": "e8939332",
   "metadata": {},
   "outputs": [
    {
     "data": {
      "text/plain": [
       "3"
      ]
     },
     "execution_count": 16,
     "metadata": {},
     "output_type": "execute_result"
    }
   ],
   "source": [
    "len(dataset.classes)"
   ]
  },
  {
   "cell_type": "code",
   "execution_count": 19,
   "id": "26a1b4dd",
   "metadata": {},
   "outputs": [],
   "source": [
    "train_dataloader = DataLoader(dataset, batch_size=64, shuffle=True)\n",
    "test_dataloader = DataLoader(dataset, batch_size=64, shuffle=True)"
   ]
  },
  {
   "cell_type": "code",
   "execution_count": 20,
   "id": "0a45496a",
   "metadata": {},
   "outputs": [
    {
     "name": "stdout",
     "output_type": "stream",
     "text": [
      "Device: cuda:0\n",
      "Epoch [1/10], Step [50/141], Loss: 0.2010, Accuracy: 90.62%\n",
      "Epoch [1/10], Step [100/141], Loss: 0.0398, Accuracy: 100.00%\n",
      "Epoch [2/10], Step [50/141], Loss: 0.2303, Accuracy: 96.88%\n",
      "Epoch [2/10], Step [100/141], Loss: 0.0020, Accuracy: 100.00%\n",
      "Epoch [3/10], Step [50/141], Loss: 0.0002, Accuracy: 100.00%\n",
      "Epoch [3/10], Step [100/141], Loss: 0.0006, Accuracy: 100.00%\n",
      "Epoch [4/10], Step [50/141], Loss: 0.0000, Accuracy: 100.00%\n",
      "Epoch [4/10], Step [100/141], Loss: 0.0001, Accuracy: 100.00%\n",
      "Epoch [5/10], Step [50/141], Loss: 0.0001, Accuracy: 100.00%\n",
      "Epoch [5/10], Step [100/141], Loss: 0.0000, Accuracy: 100.00%\n",
      "Epoch [6/10], Step [50/141], Loss: 0.0000, Accuracy: 100.00%\n",
      "Epoch [6/10], Step [100/141], Loss: 0.0000, Accuracy: 100.00%\n",
      "Epoch [7/10], Step [50/141], Loss: 0.0000, Accuracy: 100.00%\n",
      "Epoch [7/10], Step [100/141], Loss: 0.0000, Accuracy: 100.00%\n",
      "Epoch [8/10], Step [50/141], Loss: 0.0000, Accuracy: 100.00%\n",
      "Epoch [8/10], Step [100/141], Loss: 0.0000, Accuracy: 100.00%\n",
      "Epoch [9/10], Step [50/141], Loss: 0.0000, Accuracy: 100.00%\n",
      "Epoch [9/10], Step [100/141], Loss: 0.0000, Accuracy: 100.00%\n",
      "Epoch [10/10], Step [50/141], Loss: 0.0000, Accuracy: 100.00%\n",
      "Epoch [10/10], Step [100/141], Loss: 0.0000, Accuracy: 100.00%\n",
      "######## Training Finished in 283.1635625362396 seconds ###########\n"
     ]
    }
   ],
   "source": [
    "device = torch.device(\"cuda:0\" if torch.cuda.is_available() else \"cpu\")\n",
    "print(\"Device: {}\".format(device))\n",
    "model.to(device)\n",
    "\n",
    "num_epochs = 5\n",
    "total_steps = len(train_dataloader)\n",
    "\n",
    "t1 = time.time()\n",
    "loss\n",
    "for epoch in range(num_epochs):\n",
    "    for i, data in enumerate(train_dataloader):\n",
    "        images, labels = data[0].to(device), data[1].to(device)\n",
    "        # Forward pass\n",
    "        outputs = model(images)\n",
    "        loss = criterion(outputs, labels)\n",
    "        # Backprop and optimisation\n",
    "        optimizer.zero_grad()\n",
    "        loss.backward()\n",
    "        optimizer.step()\n",
    "        # Train accuracy\n",
    "        total = labels.size(0)\n",
    "        _,predicted = torch.max(outputs.data, 1)\n",
    "        correct = (predicted == labels).sum().item()\n",
    "        if (i + 1) % 50 == 0:\n",
    "            print('Epoch [{}/{}], Step [{}/{}], Loss: {:.4f}, Accuracy: {:.2f}%'\n",
    "                .format(epoch + 1, num_epochs, i + 1, total_steps, loss.item(),\n",
    "                    (correct / total) * 100))\n",
    "            \n",
    "print(\"######## Training Finished in {} seconds ###########\".format(time.time()-t1))"
   ]
  },
  {
   "cell_type": "raw",
   "id": "5c03f403",
   "metadata": {},
   "source": []
  },
  {
   "cell_type": "code",
   "execution_count": 22,
   "id": "2a7cd17c",
   "metadata": {},
   "outputs": [
    {
     "name": "stdout",
     "output_type": "stream",
     "text": [
      "Test Accuracy of the model on the 9000 test images: 100.0 %\n"
     ]
    }
   ],
   "source": [
    "model.eval() \n",
    "\n",
    "with torch.no_grad(): \n",
    "    correct = 0\n",
    "    total = 0\n",
    "    for data in test_dataloader:\n",
    "        images, labels = data[0].to(device), data[1].to(device)\n",
    "        outputs = model(images)\n",
    "        _, predicted = torch.max(outputs.data, 1)\n",
    "        total += labels.size(0)\n",
    "        correct += (predicted == labels).sum().item()\n",
    "    print('Test Accuracy of the model on the {} test images: {} %'\n",
    "        .format(total, (correct / total) * 100))"
   ]
  },
  {
   "cell_type": "code",
   "execution_count": null,
   "id": "67e6d63b",
   "metadata": {},
   "outputs": [],
   "source": []
  }
 ],
 "metadata": {
  "kernelspec": {
   "display_name": "Python 3 (ipykernel)",
   "language": "python",
   "name": "python3"
  },
  "language_info": {
   "codemirror_mode": {
    "name": "ipython",
    "version": 3
   },
   "file_extension": ".py",
   "mimetype": "text/x-python",
   "name": "python",
   "nbconvert_exporter": "python",
   "pygments_lexer": "ipython3",
   "version": "3.9.2rc1"
  }
 },
 "nbformat": 4,
 "nbformat_minor": 5
}
