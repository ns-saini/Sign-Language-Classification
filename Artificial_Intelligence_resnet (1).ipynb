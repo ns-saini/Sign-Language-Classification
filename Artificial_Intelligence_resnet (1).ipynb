{
  "nbformat": 4,
  "nbformat_minor": 0,
  "metadata": {
    "colab": {
      "provenance": []
    },
    "kernelspec": {
      "name": "python3",
      "display_name": "Python 3"
    },
    "language_info": {
      "name": "python"
    }
  },
  "cells": [
    {
      "cell_type": "code",
      "execution_count": 2,
      "metadata": {
        "id": "JFMqjt4DwHUR"
      },
      "outputs": [],
      "source": [
        "import os\n",
        "os.environ['KAGGLE_USERNAME']=\"simransohal\"\n",
        "os.environ['KAGGLE_KEY']=\"3aa7697cd9a4ba2a3715c4a29c0f0cb6\""
      ]
    },
    {
      "cell_type": "code",
      "source": [
        "!kaggle datasets download -d mrgeislinger/asl-rgb-depth-fingerspelling-spelling-it-out"
      ],
      "metadata": {
        "colab": {
          "base_uri": "https://localhost:8080/"
        },
        "id": "tLOO6Btew4JP",
        "outputId": "ca94ec9d-fcb9-435c-890f-94465d52d468"
      },
      "execution_count": 3,
      "outputs": [
        {
          "output_type": "stream",
          "name": "stdout",
          "text": [
            "Downloading asl-rgb-depth-fingerspelling-spelling-it-out.zip to /content\n",
            " 99% 2.09G/2.11G [00:23<00:00, 122MB/s]\n",
            "100% 2.11G/2.11G [00:23<00:00, 97.8MB/s]\n"
          ]
        }
      ]
    },
    {
      "cell_type": "code",
      "source": [
        "ls"
      ],
      "metadata": {
        "colab": {
          "base_uri": "https://localhost:8080/"
        },
        "id": "Tcuu6XXWw-S1",
        "outputId": "35a1aa94-6591-4cb8-d204-81f255d81896"
      },
      "execution_count": 4,
      "outputs": [
        {
          "output_type": "stream",
          "name": "stdout",
          "text": [
            "\u001b[0m\u001b[01;34masl_alphabet_test\u001b[0m/   asl-rgb-depth-fingerspelling-spelling-it-out.zip\n",
            "\u001b[01;34masl_alphabet_train\u001b[0m/  \u001b[01;34msample_data\u001b[0m/\n",
            "asl-alphabet.zip\n"
          ]
        }
      ]
    },
    {
      "cell_type": "code",
      "source": [
        "import zipfile\n",
        "with zipfile.ZipFile('asl-rgb-depth-fingerspelling-spelling-it-out.zip', 'r') as zip_ref:\n",
        "    zip_ref.extractall()"
      ],
      "metadata": {
        "id": "Rarc6yEjyJRC"
      },
      "execution_count": 5,
      "outputs": []
    },
    {
      "cell_type": "code",
      "source": [
        "ls"
      ],
      "metadata": {
        "colab": {
          "base_uri": "https://localhost:8080/"
        },
        "id": "8XodsxbryQTe",
        "outputId": "d68ff301-e035-4488-db73-f1717fb0ab29"
      },
      "execution_count": 6,
      "outputs": [
        {
          "output_type": "stream",
          "name": "stdout",
          "text": [
            "\u001b[0m\u001b[01;34masl_alphabet_test\u001b[0m/   asl-rgb-depth-fingerspelling-spelling-it-out.zip\n",
            "\u001b[01;34masl_alphabet_train\u001b[0m/  \u001b[01;34mdataset5\u001b[0m/\n",
            "asl-alphabet.zip     \u001b[01;34msample_data\u001b[0m/\n"
          ]
        }
      ]
    },
    {
      "cell_type": "code",
      "source": [
        "import torch\n",
        "import torch.nn as nn\n",
        "import torch.optim as optim\n",
        "import torchvision.transforms as transforms\n",
        "import torchvision.datasets as datasets\n",
        "import torchvision.models as models\n",
        "from torch.optim import Adam"
      ],
      "metadata": {
        "id": "gysxU2qNyZbG"
      },
      "execution_count": 7,
      "outputs": []
    },
    {
      "cell_type": "code",
      "source": [
        "d=torch.device(\"cuda\" if torch.cuda.is_available() else \"cpu\")"
      ],
      "metadata": {
        "id": "ba71D5Kx1jjV"
      },
      "execution_count": 8,
      "outputs": []
    },
    {
      "cell_type": "code",
      "source": [
        "model=models.resnet18(pretrained=False)"
      ],
      "metadata": {
        "colab": {
          "base_uri": "https://localhost:8080/"
        },
        "id": "Ax7Mujtp12li",
        "outputId": "b07f5121-42af-44e5-a1c9-26467dcca6a5"
      },
      "execution_count": 9,
      "outputs": [
        {
          "output_type": "stream",
          "name": "stderr",
          "text": [
            "/usr/local/lib/python3.9/dist-packages/torchvision/models/_utils.py:208: UserWarning: The parameter 'pretrained' is deprecated since 0.13 and may be removed in the future, please use 'weights' instead.\n",
            "  warnings.warn(\n",
            "/usr/local/lib/python3.9/dist-packages/torchvision/models/_utils.py:223: UserWarning: Arguments other than a weight enum or `None` for 'weights' are deprecated since 0.13 and may be removed in the future. The current behavior is equivalent to passing `weights=None`.\n",
            "  warnings.warn(msg)\n"
          ]
        }
      ]
    },
    {
      "cell_type": "code",
      "source": [
        "ls"
      ],
      "metadata": {
        "colab": {
          "base_uri": "https://localhost:8080/"
        },
        "id": "E8WHAYP12-Q9",
        "outputId": "c4dcdd53-9520-4928-ee05-ef36f714cb3b"
      },
      "execution_count": 10,
      "outputs": [
        {
          "output_type": "stream",
          "name": "stdout",
          "text": [
            "\u001b[0m\u001b[01;34masl_alphabet_test\u001b[0m/   asl-rgb-depth-fingerspelling-spelling-it-out.zip\n",
            "\u001b[01;34masl_alphabet_train\u001b[0m/  \u001b[01;34mdataset5\u001b[0m/\n",
            "asl-alphabet.zip     \u001b[01;34msample_data\u001b[0m/\n"
          ]
        }
      ]
    },
    {
      "cell_type": "code",
      "source": [
        "#Getting the number of input features in fully connected layer\n",
        "#Model is to be classified in just three layers\n",
        "#Created a new layer and replaced the fully connected layer with it\n",
        "num_classes=24\n",
        "features=model.fc.in_features\n",
        "model.fc=nn.Linear(features,num_classes)"
      ],
      "metadata": {
        "id": "eWXRoNNCTFvy"
      },
      "execution_count": 11,
      "outputs": []
    },
    {
      "cell_type": "code",
      "source": [
        "model=model.to(d)"
      ],
      "metadata": {
        "id": "MTZeAEtDWUlt"
      },
      "execution_count": 12,
      "outputs": []
    },
    {
      "cell_type": "code",
      "source": [
        "train_transformations=transforms.Compose([transforms.Resize(256),transforms.CenterCrop(224),transforms.ToTensor(),transforms.Normalize(mean=[0.485,0.456,0.406],std=[0.229,0.224,0.225])])\n",
        "test_transformation=transforms.Compose([transforms.ToTensor(),transforms.Normalize(mean=[0.485,0.456,0.406],std=[0.229,0.224,0.225])])"
      ],
      "metadata": {
        "id": "S59KGVITWghg"
      },
      "execution_count": 13,
      "outputs": []
    },
    {
      "cell_type": "code",
      "source": [
        "dataset = datasets.ImageFolder(r\"dataset5\", transform=train_transformations)\n",
        "train_size = int(0.8 * len(dataset))\n",
        "test_size = len(dataset) - train_size\n",
        "train_dataset, test_dataset = torch.utils.data.random_split(dataset, [train_size, test_size])"
      ],
      "metadata": {
        "id": "uT9dlikKBsB2"
      },
      "execution_count": 15,
      "outputs": []
    },
    {
      "cell_type": "code",
      "source": [
        "#data=datasets.ImageFolder(r\"asl_alphabet_train\",transform=train_transformations)"
      ],
      "metadata": {
        "id": "WWNV0DMKgqx_"
      },
      "execution_count": 13,
      "outputs": []
    },
    {
      "cell_type": "code",
      "source": [
        "#test_data=datasets.ImageFolder(r\"asl_alphabet_test\",transform=test_transformation)"
      ],
      "metadata": {
        "id": "Qvjisi2Iq2y5"
      },
      "execution_count": 14,
      "outputs": []
    },
    {
      "cell_type": "code",
      "source": [
        "optimizer=Adam(model.parameters(),lr=0.001)\n",
        "criterion=nn.CrossEntropyLoss()"
      ],
      "metadata": {
        "id": "oIa9KJiIrbHp"
      },
      "execution_count": 16,
      "outputs": []
    },
    {
      "cell_type": "code",
      "source": [
        "from torch.utils.data import DataLoader\n",
        "loader_train=DataLoader(train_dataset,batch_size=128,shuffle=True )\n",
        "loader_test=DataLoader(test_dataset,batch_size=128,shuffle=True)"
      ],
      "metadata": {
        "id": "aDSQqxGqsCAE"
      },
      "execution_count": 17,
      "outputs": []
    },
    {
      "cell_type": "code",
      "source": [
        "num_epochs = 10\n",
        "total_steps = len(loader_train)\n",
        "\n",
        "for epoch in range(num_epochs):\n",
        "    for i, data in enumerate(loader_train):\n",
        "        images, labels = data[0].to(d), data[1].to(d)\n",
        "        # Forward pass\n",
        "        outputs = model(images)\n",
        "        loss = criterion(outputs, labels)\n",
        "        # Backprop and optimisation\n",
        "        optimizer.zero_grad()\n",
        "        loss.backward()\n",
        "        optimizer.step()\n",
        "        # Train accuracy\n",
        "        total = labels.size(0)\n",
        "        _,predicted = torch.max(outputs.data, 1)\n",
        "        correct = (predicted == labels).sum().item()\n",
        "        if (i + 1) % 50 == 0:\n",
        "            print('Epoch [{}/{}], Step [{}/{}], Loss: {:.4f}, Accuracy: {:.2f}%'\n",
        "                .format(epoch + 1, num_epochs, i + 1, total_steps, loss.item(),\n",
        "                    (correct / total) * 100))\n",
        "            \n"
      ],
      "metadata": {
        "id": "pDoo8KzntUy3"
      },
      "execution_count": null,
      "outputs": []
    },
    {
      "cell_type": "code",
      "source": [
        "model.eval()\n",
        "with torch.no_grad():\n",
        "  correct = 0\n",
        "  total=0\n",
        "  for image,label in loader_test:\n",
        "    images,label=images.to(d),labels.to(d)\n",
        "    result=model(images)\n",
        "    _,predicted=torch.max(result.data,1)\n",
        "    total=total+labels.size(0)\n",
        "    correct=correct+(predicted==labels).sum().items()\n",
        "    print(f'Accuracy {100 * correct / total:.2f}%')\n",
        "\n",
        "\n"
      ],
      "metadata": {
        "id": "5nCWbn99pqFN"
      },
      "execution_count": null,
      "outputs": []
    },
    {
      "cell_type": "code",
      "source": [],
      "metadata": {
        "id": "rUmSGTMnC29B"
      },
      "execution_count": null,
      "outputs": []
    }
  ]
}