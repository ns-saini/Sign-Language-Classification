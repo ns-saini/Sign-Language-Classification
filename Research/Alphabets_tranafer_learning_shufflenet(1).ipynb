{
  "cells": [
    {
      "cell_type": "code",
      "execution_count": 1,
      "metadata": {
        "id": "D_gHd77tH8yz"
      },
      "outputs": [],
      "source": [
        "\n",
        "import os\n",
        "os.environ['KAGGLE_USERNAME']=\"simransohal\"\n",
        "os.environ['KAGGLE_KEY']=\"3aa7697cd9a4ba2a3715c4a29c0f0cb6\""
      ]
    },
    {
      "cell_type": "code",
      "execution_count": 2,
      "metadata": {
        "colab": {
          "base_uri": "https://localhost:8080/"
        },
        "id": "7uxGuIieKSGh",
        "outputId": "c3231820-ac79-4c63-d535-57b3800a7bd7"
      },
      "outputs": [
        {
          "output_type": "stream",
          "name": "stdout",
          "text": [
            "asl-rgb-depth-fingerspelling-spelling-it-out.zip: Skipping, found more recently modified local copy (use --force to force download)\n"
          ]
        }
      ],
      "source": [
        "!kaggle datasets download -d mrgeislinger/asl-rgb-depth-fingerspelling-spelling-it-out"
      ]
    },
    {
      "cell_type": "code",
      "execution_count": 3,
      "metadata": {
        "id": "_5E9tWsmKUrU"
      },
      "outputs": [],
      "source": [
        "import zipfile\n",
        "with zipfile.ZipFile('asl-rgb-depth-fingerspelling-spelling-it-out.zip', 'r') as zip_ref:\n",
        "    zip_ref.extractall()"
      ]
    },
    {
      "cell_type": "code",
      "execution_count": 4,
      "metadata": {
        "id": "i12K70VuKfX4"
      },
      "outputs": [],
      "source": [
        "\n",
        "import torch\n",
        "import torch.nn as nn\n",
        "import torch.optim as optim\n",
        "import torchvision.transforms as transforms\n",
        "import torchvision.datasets as datasets\n",
        "import torchvision.models as models\n",
        "from torch.optim import Adam\n",
        "\n",
        "import torchvision.datasets as datasets\n",
        "import torch.utils.data as td\n",
        "import numpy as np\n",
        "import matplotlib.pyplot as plt\n",
        "\n",
        "import torch.nn.functional as F\n",
        "from matplotlib import image\n",
        "from matplotlib import pyplot\n",
        "import time"
      ]
    },
    {
      "cell_type": "code",
      "execution_count": 5,
      "metadata": {
        "id": "EUPs1mMMKf8k"
      },
      "outputs": [],
      "source": [
        "d=torch.device(\"cuda\" if torch.cuda.is_available() else \"cpu\")"
      ]
    },
    {
      "cell_type": "code",
      "execution_count": 6,
      "metadata": {
        "colab": {
          "base_uri": "https://localhost:8080/"
        },
        "id": "ZnG8doY6KjNs",
        "outputId": "a15c2a78-0688-4b1a-842d-107daf424e1d"
      },
      "outputs": [
        {
          "output_type": "stream",
          "name": "stdout",
          "text": [
            "asl-rgb-depth-fingerspelling-spelling-it-out.zip  \u001b[0m\u001b[01;34mdataset5\u001b[0m/  \u001b[01;34msample_data\u001b[0m/\n"
          ]
        }
      ],
      "source": [
        "ls"
      ]
    },
    {
      "cell_type": "code",
      "execution_count": 7,
      "metadata": {
        "colab": {
          "base_uri": "https://localhost:8080/"
        },
        "id": "ccq-zVXcMw_0",
        "outputId": "46eca1ad-7e7b-485e-d5bb-ec578babbff8"
      },
      "outputs": [
        {
          "output_type": "stream",
          "name": "stdout",
          "text": [
            "/\n"
          ]
        }
      ],
      "source": [
        "cd .."
      ]
    },
    {
      "cell_type": "code",
      "execution_count": 8,
      "metadata": {
        "id": "CnCEKZD1MzeJ"
      },
      "outputs": [],
      "source": [
        "data_dir=\"/content/dataset5\"\n",
        "train_dir = \"/content/train\"\n",
        "val_dir = \"/content/validation\"\n",
        "test_dir = \"/content/test\"\n",
        "train_size=0.8\n",
        "test_size=0.2\n",
        "validation_size=0.1\n",
        "\n",
        "transforms = transforms.Compose([\n",
        "    transforms.Resize((224, 224)),\n",
        "    transforms.RandomHorizontalFlip(),\n",
        "    transforms.RandomRotation(10),\n",
        "    transforms.ToTensor()\n",
        "])\n",
        "data=datasets.ImageFolder(root=data_dir,transform=transforms)\n",
        "dataset_size=len(data)\n",
        "train_data=int(train_size*dataset_size)\n",
        "test_data=int(test_size*dataset_size)\n",
        "validation_data=dataset_size-(train_data+test_data)\n",
        "train,test,validation=td.random_split(data,[train_data,test_data,validation_data])\n",
        "data_loader_train = torch.utils.data.DataLoader(train, batch_size=64, shuffle=True)\n",
        "data_loader_test  = torch.utils.data.DataLoader(test, batch_size=64, shuffle=True)\n",
        "data_loader_val   = torch.utils.data.DataLoader(validation, batch_size=64, shuffle=True)\n",
        "\n"
      ]
    },
    {
      "cell_type": "code",
      "execution_count": 9,
      "metadata": {
        "id": "uuIPst1PM0sw"
      },
      "outputs": [],
      "source": [
        "learning_rate = 0.001\n",
        "num_epochs = 10\n",
        "batch_size = 64"
      ]
    },
    {
      "cell_type": "code",
      "execution_count": 9,
      "metadata": {
        "id": "GKZysGCgRDwt"
      },
      "outputs": [],
      "source": []
    },
    {
      "cell_type": "code",
      "execution_count": 10,
      "metadata": {
        "colab": {
          "base_uri": "https://localhost:8080/"
        },
        "id": "8vnOj-SVUMTn",
        "outputId": "cb0eada3-54cf-4077-99d7-47c367d808df"
      },
      "outputs": [
        {
          "output_type": "stream",
          "name": "stdout",
          "text": [
            "Looking in indexes: https://pypi.org/simple, https://us-python.pkg.dev/colab-wheels/public/simple/\n",
            "Requirement already satisfied: torch in /usr/local/lib/python3.9/dist-packages (2.0.0+cu118)\n",
            "Requirement already satisfied: torchvision in /usr/local/lib/python3.9/dist-packages (0.15.1+cu118)\n",
            "Requirement already satisfied: sympy in /usr/local/lib/python3.9/dist-packages (from torch) (1.11.1)\n",
            "Requirement already satisfied: jinja2 in /usr/local/lib/python3.9/dist-packages (from torch) (3.1.2)\n",
            "Requirement already satisfied: typing-extensions in /usr/local/lib/python3.9/dist-packages (from torch) (4.5.0)\n",
            "Requirement already satisfied: networkx in /usr/local/lib/python3.9/dist-packages (from torch) (3.0)\n",
            "Requirement already satisfied: triton==2.0.0 in /usr/local/lib/python3.9/dist-packages (from torch) (2.0.0)\n",
            "Requirement already satisfied: filelock in /usr/local/lib/python3.9/dist-packages (from torch) (3.10.7)\n",
            "Requirement already satisfied: cmake in /usr/local/lib/python3.9/dist-packages (from triton==2.0.0->torch) (3.25.2)\n",
            "Requirement already satisfied: lit in /usr/local/lib/python3.9/dist-packages (from triton==2.0.0->torch) (16.0.0)\n",
            "Requirement already satisfied: requests in /usr/local/lib/python3.9/dist-packages (from torchvision) (2.27.1)\n",
            "Requirement already satisfied: pillow!=8.3.*,>=5.3.0 in /usr/local/lib/python3.9/dist-packages (from torchvision) (8.4.0)\n",
            "Requirement already satisfied: numpy in /usr/local/lib/python3.9/dist-packages (from torchvision) (1.22.4)\n",
            "Requirement already satisfied: MarkupSafe>=2.0 in /usr/local/lib/python3.9/dist-packages (from jinja2->torch) (2.1.2)\n",
            "Requirement already satisfied: idna<4,>=2.5 in /usr/local/lib/python3.9/dist-packages (from requests->torchvision) (3.4)\n",
            "Requirement already satisfied: urllib3<1.27,>=1.21.1 in /usr/local/lib/python3.9/dist-packages (from requests->torchvision) (1.26.15)\n",
            "Requirement already satisfied: certifi>=2017.4.17 in /usr/local/lib/python3.9/dist-packages (from requests->torchvision) (2022.12.7)\n",
            "Requirement already satisfied: charset-normalizer~=2.0.0 in /usr/local/lib/python3.9/dist-packages (from requests->torchvision) (2.0.12)\n",
            "Requirement already satisfied: mpmath>=0.19 in /usr/local/lib/python3.9/dist-packages (from sympy->torch) (1.3.0)\n"
          ]
        }
      ],
      "source": [
        "!pip install torch torchvision --upgrade\n"
      ]
    },
    {
      "cell_type": "code",
      "execution_count": 11,
      "metadata": {
        "colab": {
          "base_uri": "https://localhost:8080/"
        },
        "id": "8H6IAvDiRKQ9",
        "outputId": "56fa4b0c-d229-4913-c698-069e1a8a02df"
      },
      "outputs": [
        {
          "output_type": "stream",
          "name": "stderr",
          "text": [
            "/usr/local/lib/python3.9/dist-packages/torchvision/models/_utils.py:208: UserWarning: The parameter 'pretrained' is deprecated since 0.13 and may be removed in the future, please use 'weights' instead.\n",
            "  warnings.warn(\n",
            "/usr/local/lib/python3.9/dist-packages/torchvision/models/_utils.py:223: UserWarning: Arguments other than a weight enum or `None` for 'weights' are deprecated since 0.13 and may be removed in the future. The current behavior is equivalent to passing `weights=ShuffleNet_V2_X1_0_Weights.IMAGENET1K_V1`. You can also use `weights=ShuffleNet_V2_X1_0_Weights.DEFAULT` to get the most up-to-date weights.\n",
            "  warnings.warn(msg)\n"
          ]
        }
      ],
      "source": [
        "from torchvision.models import shufflenet_v2_x1_0\n",
        "import torchvision\n",
        "\n",
        "d=torch.device(\"cuda\" if torch.cuda.is_available() else \"cpu\")\n",
        "model = torchvision.models.shufflenet_v2_x1_0(pretrained=True)\n",
        "model.fc = nn.Linear(model.fc.in_features, 29).to(d)\n",
        "model=model.to(d)\n",
        "criterion=nn.CrossEntropyLoss()\n",
        "optimizer = optim.Adam(model.parameters(), lr = learning_rate)\n",
        "\n"
      ]
    },
    {
      "cell_type": "code",
      "execution_count": 12,
      "metadata": {
        "colab": {
          "base_uri": "https://localhost:8080/"
        },
        "id": "128FZk5rRf3N",
        "outputId": "73feadfb-f408-4007-b573-db96aed4cf54"
      },
      "outputs": [
        {
          "output_type": "stream",
          "name": "stdout",
          "text": [
            "Epoch [1/10], Step [100/1646], Loss: 0.6560802459716797\n",
            "Epoch [1/10], Step [200/1646], Loss: 0.40628156065940857\n",
            "Epoch [1/10], Step [300/1646], Loss: 0.31301605701446533\n",
            "Epoch [1/10], Step [400/1646], Loss: 0.36254602670669556\n",
            "Epoch [1/10], Step [500/1646], Loss: 0.423374742269516\n",
            "Epoch [1/10], Step [600/1646], Loss: 0.3349464237689972\n",
            "Epoch [1/10], Step [700/1646], Loss: 0.33725592494010925\n",
            "Epoch [1/10], Step [800/1646], Loss: 0.4221627712249756\n",
            "Epoch [1/10], Step [900/1646], Loss: 0.2533491253852844\n",
            "Epoch [1/10], Step [1000/1646], Loss: 0.20785045623779297\n",
            "Epoch [1/10], Step [1100/1646], Loss: 0.15095412731170654\n",
            "Epoch [1/10], Step [1200/1646], Loss: 0.2044958770275116\n",
            "Epoch [1/10], Step [1300/1646], Loss: 0.17643843591213226\n",
            "Epoch [1/10], Step [1400/1646], Loss: 0.4591665267944336\n",
            "Epoch [1/10], Step [1500/1646], Loss: 0.48289117217063904\n",
            "Epoch [1/10], Step [1600/1646], Loss: 0.22116562724113464\n",
            "Epoch [1/10], Training Loss: 0.41364572143333794, Training Accuracy: 0.8427667617797852, Validation Loss: 0.00048637480358593166, Validation Accuracy: 1.0\n",
            "Epoch [2/10], Step [100/1646], Loss: 0.1377311497926712\n",
            "Epoch [2/10], Step [200/1646], Loss: 0.3879697322845459\n",
            "Epoch [2/10], Step [300/1646], Loss: 0.27522844076156616\n",
            "Epoch [2/10], Step [400/1646], Loss: 0.36384183168411255\n",
            "Epoch [2/10], Step [500/1646], Loss: 0.2758708894252777\n",
            "Epoch [2/10], Step [600/1646], Loss: 0.21455538272857666\n",
            "Epoch [2/10], Step [700/1646], Loss: 0.13190710544586182\n",
            "Epoch [2/10], Step [800/1646], Loss: 0.23985369503498077\n",
            "Epoch [2/10], Step [900/1646], Loss: 0.27841871976852417\n",
            "Epoch [2/10], Step [1000/1646], Loss: 0.18825757503509521\n",
            "Epoch [2/10], Step [1100/1646], Loss: 0.13277289271354675\n",
            "Epoch [2/10], Step [1200/1646], Loss: 0.15724040567874908\n",
            "Epoch [2/10], Step [1300/1646], Loss: 0.18853509426116943\n",
            "Epoch [2/10], Step [1400/1646], Loss: 0.13023138046264648\n",
            "Epoch [2/10], Step [1500/1646], Loss: 0.3342078626155853\n",
            "Epoch [2/10], Step [1600/1646], Loss: 0.2215198278427124\n",
            "Epoch [2/10], Training Loss: 0.21867132908636353, Training Accuracy: 0.9141492247581482, Validation Loss: 9.870042413240299e-05, Validation Accuracy: 1.0\n",
            "Epoch [3/10], Step [100/1646], Loss: 0.1749110072851181\n",
            "Epoch [3/10], Step [200/1646], Loss: 0.11186511069536209\n",
            "Epoch [3/10], Step [300/1646], Loss: 0.09560156613588333\n",
            "Epoch [3/10], Step [400/1646], Loss: 0.25830402970314026\n",
            "Epoch [3/10], Step [500/1646], Loss: 0.16656777262687683\n",
            "Epoch [3/10], Step [600/1646], Loss: 0.1330723613500595\n",
            "Epoch [3/10], Step [700/1646], Loss: 0.13698099553585052\n",
            "Epoch [3/10], Step [800/1646], Loss: 0.2810334861278534\n",
            "Epoch [3/10], Step [900/1646], Loss: 0.0942067950963974\n",
            "Epoch [3/10], Step [1000/1646], Loss: 0.24719882011413574\n",
            "Epoch [3/10], Step [1100/1646], Loss: 0.08811605721712112\n",
            "Epoch [3/10], Step [1200/1646], Loss: 0.29410988092422485\n",
            "Epoch [3/10], Step [1300/1646], Loss: 0.2990068197250366\n",
            "Epoch [3/10], Step [1400/1646], Loss: 0.06652000546455383\n",
            "Epoch [3/10], Step [1500/1646], Loss: 0.1828813999891281\n",
            "Epoch [3/10], Step [1600/1646], Loss: 0.1212528795003891\n",
            "Epoch [3/10], Training Loss: 0.1704724718989716, Training Accuracy: 0.9334497451782227, Validation Loss: 0.0038991153705865145, Validation Accuracy: 1.0\n",
            "Epoch [4/10], Step [100/1646], Loss: 0.15719448029994965\n",
            "Epoch [4/10], Step [200/1646], Loss: 0.0569373294711113\n",
            "Epoch [4/10], Step [300/1646], Loss: 0.06149591878056526\n",
            "Epoch [4/10], Step [400/1646], Loss: 0.11280050873756409\n",
            "Epoch [4/10], Step [500/1646], Loss: 0.12001240998506546\n",
            "Epoch [4/10], Step [600/1646], Loss: 0.15024815499782562\n",
            "Epoch [4/10], Step [700/1646], Loss: 0.07630722224712372\n",
            "Epoch [4/10], Step [800/1646], Loss: 0.10929349064826965\n",
            "Epoch [4/10], Step [900/1646], Loss: 0.3681536316871643\n",
            "Epoch [4/10], Step [1000/1646], Loss: 0.05910210311412811\n",
            "Epoch [4/10], Step [1100/1646], Loss: 0.05840630084276199\n",
            "Epoch [4/10], Step [1200/1646], Loss: 0.1331077516078949\n",
            "Epoch [4/10], Step [1300/1646], Loss: 0.17917825281620026\n",
            "Epoch [4/10], Step [1400/1646], Loss: 0.10955306887626648\n",
            "Epoch [4/10], Step [1500/1646], Loss: 0.2159811556339264\n",
            "Epoch [4/10], Step [1600/1646], Loss: 0.1449216604232788\n",
            "Epoch [4/10], Training Loss: 0.1457818855168264, Training Accuracy: 0.9432946443557739, Validation Loss: 0.0001599660754436627, Validation Accuracy: 1.0\n",
            "Epoch [5/10], Step [100/1646], Loss: 0.15020029246807098\n",
            "Epoch [5/10], Step [200/1646], Loss: 0.13167507946491241\n",
            "Epoch [5/10], Step [300/1646], Loss: 0.06106967106461525\n",
            "Epoch [5/10], Step [400/1646], Loss: 0.2150701880455017\n",
            "Epoch [5/10], Step [500/1646], Loss: 0.09475019574165344\n",
            "Epoch [5/10], Step [600/1646], Loss: 0.2218107432126999\n",
            "Epoch [5/10], Step [700/1646], Loss: 0.08272499591112137\n",
            "Epoch [5/10], Step [800/1646], Loss: 0.03964605927467346\n",
            "Epoch [5/10], Step [900/1646], Loss: 0.24943765997886658\n",
            "Epoch [5/10], Step [1000/1646], Loss: 0.06171780824661255\n",
            "Epoch [5/10], Step [1100/1646], Loss: 0.18706266582012177\n",
            "Epoch [5/10], Step [1200/1646], Loss: 0.14098170399665833\n",
            "Epoch [5/10], Step [1300/1646], Loss: 0.094642773270607\n",
            "Epoch [5/10], Step [1400/1646], Loss: 0.07770620286464691\n",
            "Epoch [5/10], Step [1500/1646], Loss: 0.169246643781662\n",
            "Epoch [5/10], Step [1600/1646], Loss: 0.06287305802106857\n",
            "Epoch [5/10], Training Loss: 0.12787509515863432, Training Accuracy: 0.9511173367500305, Validation Loss: 1.3947389561508317e-05, Validation Accuracy: 1.0\n",
            "Epoch [6/10], Step [100/1646], Loss: 0.13888604938983917\n",
            "Epoch [6/10], Step [200/1646], Loss: 0.08355452120304108\n",
            "Epoch [6/10], Step [300/1646], Loss: 0.1443123072385788\n",
            "Epoch [6/10], Step [400/1646], Loss: 0.11850544810295105\n",
            "Epoch [6/10], Step [500/1646], Loss: 0.07040370255708694\n",
            "Epoch [6/10], Step [600/1646], Loss: 0.17524969577789307\n",
            "Epoch [6/10], Step [700/1646], Loss: 0.09930071234703064\n",
            "Epoch [6/10], Step [800/1646], Loss: 0.22997251152992249\n",
            "Epoch [6/10], Step [900/1646], Loss: 0.11929652094841003\n",
            "Epoch [6/10], Step [1000/1646], Loss: 0.11854573339223862\n",
            "Epoch [6/10], Step [1100/1646], Loss: 0.06473325192928314\n",
            "Epoch [6/10], Step [1200/1646], Loss: 0.08370938152074814\n",
            "Epoch [6/10], Step [1300/1646], Loss: 0.19336546957492828\n",
            "Epoch [6/10], Step [1400/1646], Loss: 0.17733970284461975\n",
            "Epoch [6/10], Step [1500/1646], Loss: 0.023303339257836342\n",
            "Epoch [6/10], Step [1600/1646], Loss: 0.030830608680844307\n",
            "Epoch [6/10], Training Loss: 0.11171393346053889, Training Accuracy: 0.9573831558227539, Validation Loss: 0.00023803261865396053, Validation Accuracy: 1.0\n",
            "Epoch [7/10], Step [100/1646], Loss: 0.0815025195479393\n",
            "Epoch [7/10], Step [200/1646], Loss: 0.15219050645828247\n",
            "Epoch [7/10], Step [300/1646], Loss: 0.12071041762828827\n",
            "Epoch [7/10], Step [400/1646], Loss: 0.21745750308036804\n",
            "Epoch [7/10], Step [500/1646], Loss: 0.07500632852315903\n",
            "Epoch [7/10], Step [600/1646], Loss: 0.02805868536233902\n",
            "Epoch [7/10], Step [700/1646], Loss: 0.14149673283100128\n",
            "Epoch [7/10], Step [800/1646], Loss: 0.09107988327741623\n",
            "Epoch [7/10], Step [900/1646], Loss: 0.11682619154453278\n",
            "Epoch [7/10], Step [1000/1646], Loss: 0.06366665661334991\n",
            "Epoch [7/10], Step [1100/1646], Loss: 0.15337400138378143\n",
            "Epoch [7/10], Step [1200/1646], Loss: 0.10079269856214523\n",
            "Epoch [7/10], Step [1300/1646], Loss: 0.13121004402637482\n",
            "Epoch [7/10], Step [1400/1646], Loss: 0.16844384372234344\n",
            "Epoch [7/10], Step [1500/1646], Loss: 0.10669657588005066\n",
            "Epoch [7/10], Step [1600/1646], Loss: 0.10077602416276932\n",
            "Epoch [7/10], Training Loss: 0.10123588293587125, Training Accuracy: 0.9610286951065063, Validation Loss: 1.2159273865108844e-05, Validation Accuracy: 1.0\n",
            "Epoch [8/10], Step [100/1646], Loss: 0.042676206678152084\n",
            "Epoch [8/10], Step [200/1646], Loss: 0.07948367297649384\n",
            "Epoch [8/10], Step [300/1646], Loss: 0.03260248526930809\n",
            "Epoch [8/10], Step [400/1646], Loss: 0.1358744204044342\n",
            "Epoch [8/10], Step [500/1646], Loss: 0.3391256034374237\n",
            "Epoch [8/10], Step [600/1646], Loss: 0.028204230591654778\n",
            "Epoch [8/10], Step [700/1646], Loss: 0.06431418657302856\n",
            "Epoch [8/10], Step [800/1646], Loss: 0.058789148926734924\n",
            "Epoch [8/10], Step [900/1646], Loss: 0.1641257107257843\n",
            "Epoch [8/10], Step [1000/1646], Loss: 0.10674546658992767\n",
            "Epoch [8/10], Step [1100/1646], Loss: 0.050631094723939896\n",
            "Epoch [8/10], Step [1200/1646], Loss: 0.088767871260643\n",
            "Epoch [8/10], Step [1300/1646], Loss: 0.028981585055589676\n",
            "Epoch [8/10], Step [1400/1646], Loss: 0.11768670380115509\n",
            "Epoch [8/10], Step [1500/1646], Loss: 0.15092526376247406\n",
            "Epoch [8/10], Step [1600/1646], Loss: 0.11917686462402344\n",
            "Epoch [8/10], Training Loss: 0.09363547070483753, Training Accuracy: 0.964978039264679, Validation Loss: 0.00044764988706447184, Validation Accuracy: 1.0\n",
            "Epoch [9/10], Step [100/1646], Loss: 0.17629316449165344\n",
            "Epoch [9/10], Step [200/1646], Loss: 0.03096443973481655\n",
            "Epoch [9/10], Step [300/1646], Loss: 0.0577944740653038\n",
            "Epoch [9/10], Step [400/1646], Loss: 0.06875410676002502\n",
            "Epoch [9/10], Step [500/1646], Loss: 0.03523961454629898\n",
            "Epoch [9/10], Step [600/1646], Loss: 0.05942185968160629\n",
            "Epoch [9/10], Step [700/1646], Loss: 0.10762612521648407\n",
            "Epoch [9/10], Step [800/1646], Loss: 0.05820084735751152\n",
            "Epoch [9/10], Step [900/1646], Loss: 0.1253577023744583\n",
            "Epoch [9/10], Step [1000/1646], Loss: 0.041615646332502365\n",
            "Epoch [9/10], Step [1100/1646], Loss: 0.053089093416929245\n",
            "Epoch [9/10], Step [1200/1646], Loss: 0.03786161169409752\n",
            "Epoch [9/10], Step [1300/1646], Loss: 0.048309434205293655\n",
            "Epoch [9/10], Step [1400/1646], Loss: 0.040863752365112305\n",
            "Epoch [9/10], Step [1500/1646], Loss: 0.022873612120747566\n",
            "Epoch [9/10], Step [1600/1646], Loss: 0.03929981589317322\n",
            "Epoch [9/10], Training Loss: 0.08632729434420129, Training Accuracy: 0.9679115414619446, Validation Loss: 0.0, Validation Accuracy: 1.0\n",
            "Epoch [10/10], Step [100/1646], Loss: 0.05255118012428284\n",
            "Epoch [10/10], Step [200/1646], Loss: 0.13253889977931976\n",
            "Epoch [10/10], Step [300/1646], Loss: 0.05806400999426842\n",
            "Epoch [10/10], Step [400/1646], Loss: 0.07210659980773926\n",
            "Epoch [10/10], Step [500/1646], Loss: 0.048408132046461105\n",
            "Epoch [10/10], Step [600/1646], Loss: 0.10437516868114471\n",
            "Epoch [10/10], Step [700/1646], Loss: 0.12112069875001907\n",
            "Epoch [10/10], Step [800/1646], Loss: 0.11070951074361801\n",
            "Epoch [10/10], Step [900/1646], Loss: 0.0662555918097496\n",
            "Epoch [10/10], Step [1000/1646], Loss: 0.16773542761802673\n",
            "Epoch [10/10], Step [1100/1646], Loss: 0.023942917585372925\n",
            "Epoch [10/10], Step [1200/1646], Loss: 0.043115582317113876\n",
            "Epoch [10/10], Step [1300/1646], Loss: 0.14813748002052307\n",
            "Epoch [10/10], Step [1400/1646], Loss: 0.04599384590983391\n",
            "Epoch [10/10], Step [1500/1646], Loss: 0.06765410304069519\n",
            "Epoch [10/10], Step [1600/1646], Loss: 0.010873626917600632\n",
            "Epoch [10/10], Training Loss: 0.07959615081556612, Training Accuracy: 0.9703798890113831, Validation Loss: 1.1920928244535389e-07, Validation Accuracy: 1.0\n"
          ]
        }
      ],
      "source": [
        "training_loss = []\n",
        "validation_loss = []\n",
        "training_accuracy = []\n",
        "validation_accuracy = []\n",
        "\n",
        "for epoch in range(num_epochs):\n",
        "    running_training_loss = 0.0\n",
        "    running_training_accuracy = 0.0\n",
        "    model.train()\n",
        "    for i, (inputs, labels) in enumerate(data_loader_train):\n",
        "        optimizer.zero_grad()\n",
        "        inputs = inputs.to(d)  \n",
        "        labels = labels.to(d) \n",
        "        outputs = model(inputs)\n",
        "        loss = criterion(outputs, labels)\n",
        "        loss.backward()\n",
        "        optimizer.step()\n",
        "        running_training_loss += loss.item()\n",
        "        if (i+1) % 100 == 0:\n",
        "            print(f'Epoch [{epoch+1}/{num_epochs}], Step [{i+1}/{len(data_loader_train)}], Loss: {loss.item()}')\n",
        "        _, preds = torch.max(outputs, 1)\n",
        "        running_training_accuracy += torch.sum(preds == labels.data)\n",
        "    \n",
        "    epoch_training_loss = running_training_loss / len(data_loader_train)\n",
        "    epoch_training_accuracy = running_training_accuracy / len(data_loader_train.dataset)\n",
        "    training_loss.append(epoch_training_loss)\n",
        "    training_accuracy.append(epoch_training_accuracy)\n",
        "    \n",
        "    running_validation_loss = 0.0\n",
        "    running_validation_accuracy = 0.0\n",
        "    model.eval()\n",
        "    with torch.no_grad():\n",
        "        for i, (inputs, labels) in enumerate(data_loader_val):\n",
        "            inputs = inputs.to(d)  \n",
        "            labels = labels.to(d)\n",
        "            outputs = model(inputs)\n",
        "            loss = criterion(outputs, labels)\n",
        "            running_validation_loss += loss.item()\n",
        "            _, preds = torch.max(outputs, 1)\n",
        "            running_validation_accuracy += torch.sum(preds == labels.data)\n",
        "    \n",
        "    epoch_validation_loss = running_validation_loss / len(data_loader_val)\n",
        "    epoch_validation_accuracy = running_validation_accuracy / len(data_loader_val.dataset)\n",
        "    validation_loss.append(epoch_validation_loss)\n",
        "    validation_accuracy.append(epoch_validation_accuracy)\n",
        "    print('Epoch [{}/{}], Training Loss: {}, Training Accuracy: {}, Validation Loss: {}, Validation Accuracy: {}'\n",
        "          .format(epoch+1, num_epochs, epoch_training_loss, epoch_training_accuracy, epoch_validation_loss, epoch_validation_accuracy))\n",
        "     \n"
      ]
    },
    {
      "cell_type": "code",
      "execution_count": 13,
      "metadata": {
        "colab": {
          "base_uri": "https://localhost:8080/",
          "height": 472
        },
        "id": "Xurc44JfVijm",
        "outputId": "1bccc4dc-fd27-4483-ab7c-0bb4ec9cf1e2"
      },
      "outputs": [
        {
          "output_type": "display_data",
          "data": {
            "text/plain": [
              "<Figure size 640x480 with 1 Axes>"
            ],
            "image/png": "[encoded data removed]"
          },
          "metadata": {}
        }
      ],
      "source": [
        "\n",
        "\n",
        "training_accuracy_tensor = torch.tensor(training_accuracy)\n",
        "validation_accuracy_tensor = torch.tensor(validation_accuracy)\n",
        "\n",
        "plt.plot(training_accuracy_tensor.to('cpu'), label='Training Accuracy')\n",
        "plt.plot(validation_accuracy_tensor.to('cpu'), label='Validation Accuracy')\n",
        "plt.title('Training Accuracy, Validation Accuaracy vs epochs for Resnet18(weights=ResNet18_Weights.IMAGENET1K_V1)')\n",
        "plt.xlabel('Epoch')\n",
        "plt.ylabel('Accuracy')\n",
        "plt.legend()\n",
        "plt.show()\n",
        "     \n"
      ]
    },
    {
      "cell_type": "code",
      "execution_count": 14,
      "metadata": {
        "colab": {
          "base_uri": "https://localhost:8080/",
          "height": 675
        },
        "id": "32TeQiE2DOaP",
        "outputId": "6bdbf16f-6464-494c-e0d3-22cbed9b7727"
      },
      "outputs": [
        {
          "output_type": "stream",
          "name": "stdout",
          "text": [
            "Test Accuracy: 0.9666957809592527\n"
          ]
        },
        {
          "output_type": "display_data",
          "data": {
            "text/plain": [
              "<Figure size 640x480 with 2 Axes>"
            ],
            "image/png": "[encoded data removed]"
          },
          "metadata": {}
        },
        {
          "output_type": "stream",
          "name": "stdout",
          "text": [
            "              precision    recall  f1-score   support\n",
            "\n",
            "           0       0.99      0.98      0.99      5133\n",
            "           1       0.96      0.94      0.95      5587\n",
            "           2       0.94      0.95      0.94      5305\n",
            "           3       0.98      0.99      0.98      5249\n",
            "           4       0.98      0.98      0.98      5059\n",
            "\n",
            "    accuracy                           0.97     26333\n",
            "   macro avg       0.97      0.97      0.97     26333\n",
            "weighted avg       0.97      0.97      0.97     26333\n",
            "\n"
          ]
        }
      ],
      "source": [
        "from sklearn.metrics import accuracy_score, confusion_matrix, classification_report\n",
        "import seaborn as sns\n",
        "\n",
        "model.eval()\n",
        "with torch.no_grad():\n",
        "    test_preds = []\n",
        "    test_labels = []\n",
        "    for inputs, labels in data_loader_test:\n",
        "        inputs = inputs.to(d)\n",
        "        labels = labels.to(d)\n",
        "        outputs = model(inputs)\n",
        "        _, preds = torch.max(outputs, 1)\n",
        "        test_preds.extend(preds.tolist())\n",
        "        test_labels.extend(labels.tolist())\n",
        "\n",
        "test_acc = accuracy_score(test_labels, test_preds)\n",
        "print('Test Accuracy: {}'.format(test_acc))\n",
        "\n",
        "#target_names = list(data_loader_train.class_to_idx.keys())\n",
        "cm = confusion_matrix(test_labels, test_preds)\n",
        "sns.heatmap(cm, annot=True, cmap='Oranges')\n",
        "plt.xlabel('Predicted')\n",
        "plt.ylabel('Actual')\n",
        "plt.show()\n",
        "\n",
        "print(classification_report(test_labels, test_preds))\n",
        "\n",
        "     \n"
      ]
    },
    {
      "cell_type": "code",
      "execution_count": 15,
      "metadata": {
        "id": "Vtu0sv3MDS0J",
        "colab": {
          "base_uri": "https://localhost:8080/"
        },
        "outputId": "660a407a-97f0-48a6-aebf-7b665a5556b8"
      },
      "outputs": [
        {
          "output_type": "stream",
          "name": "stderr",
          "text": [
            "/usr/local/lib/python3.9/dist-packages/torchvision/models/_utils.py:208: UserWarning: The parameter 'pretrained' is deprecated since 0.13 and may be removed in the future, please use 'weights' instead.\n",
            "  warnings.warn(\n",
            "/usr/local/lib/python3.9/dist-packages/torchvision/models/_utils.py:223: UserWarning: Arguments other than a weight enum or `None` for 'weights' are deprecated since 0.13 and may be removed in the future. The current behavior is equivalent to passing `weights=None`.\n",
            "  warnings.warn(msg)\n"
          ]
        },
        {
          "output_type": "stream",
          "name": "stdout",
          "text": [
            "Epoch [1/10], Step [100/1646], Loss: 1.5851109027862549\n",
            "Epoch [1/10], Step [200/1646], Loss: 1.2074798345565796\n",
            "Epoch [1/10], Step [300/1646], Loss: 1.1560544967651367\n",
            "Epoch [1/10], Step [400/1646], Loss: 0.9428462982177734\n",
            "Epoch [1/10], Step [500/1646], Loss: 1.0795538425445557\n",
            "Epoch [1/10], Step [600/1646], Loss: 1.080322504043579\n",
            "Epoch [1/10], Step [700/1646], Loss: 0.8523932099342346\n",
            "Epoch [1/10], Step [800/1646], Loss: 0.8410861492156982\n",
            "Epoch [1/10], Step [900/1646], Loss: 0.8402429819107056\n",
            "Epoch [1/10], Step [1000/1646], Loss: 0.8484982848167419\n",
            "Epoch [1/10], Step [1100/1646], Loss: 0.7581234574317932\n",
            "Epoch [1/10], Step [1200/1646], Loss: 0.7569495439529419\n",
            "Epoch [1/10], Step [1300/1646], Loss: 0.6902029514312744\n",
            "Epoch [1/10], Step [1400/1646], Loss: 0.7264006733894348\n",
            "Epoch [1/10], Step [1500/1646], Loss: 0.5667104721069336\n",
            "Epoch [1/10], Step [1600/1646], Loss: 0.704106330871582\n",
            "Epoch [1/10], Training Loss: 0.9667864060742307, Training Accuracy: 0.6062904596328735, Validation Loss: 0.010212075896561146, Validation Accuracy: 1.0\n",
            "Epoch [2/10], Step [100/1646], Loss: 0.5618506073951721\n",
            "Epoch [2/10], Step [200/1646], Loss: 0.6261011958122253\n",
            "Epoch [2/10], Step [300/1646], Loss: 0.6630229949951172\n",
            "Epoch [2/10], Step [400/1646], Loss: 0.6419684886932373\n",
            "Epoch [2/10], Step [500/1646], Loss: 0.4497368633747101\n",
            "Epoch [2/10], Step [600/1646], Loss: 0.5178514719009399\n",
            "Epoch [2/10], Step [700/1646], Loss: 0.6522613167762756\n",
            "Epoch [2/10], Step [800/1646], Loss: 0.626203179359436\n",
            "Epoch [2/10], Step [900/1646], Loss: 0.4954894781112671\n",
            "Epoch [2/10], Step [1000/1646], Loss: 0.35012707114219666\n",
            "Epoch [2/10], Step [1100/1646], Loss: 0.5802812576293945\n",
            "Epoch [2/10], Step [1200/1646], Loss: 0.48378029465675354\n",
            "Epoch [2/10], Step [1300/1646], Loss: 0.6413594484329224\n",
            "Epoch [2/10], Step [1400/1646], Loss: 0.5395385026931763\n",
            "Epoch [2/10], Step [1500/1646], Loss: 0.5509855151176453\n",
            "Epoch [2/10], Step [1600/1646], Loss: 0.5093568563461304\n",
            "Epoch [2/10], Training Loss: 0.5734110706794739, Training Accuracy: 0.7670362591743469, Validation Loss: 0.0038163464050740004, Validation Accuracy: 1.0\n",
            "Epoch [3/10], Step [100/1646], Loss: 0.4218599200248718\n",
            "Epoch [3/10], Step [200/1646], Loss: 0.5017852783203125\n",
            "Epoch [3/10], Step [300/1646], Loss: 0.518071711063385\n",
            "Epoch [3/10], Step [400/1646], Loss: 0.4182015359401703\n",
            "Epoch [3/10], Step [500/1646], Loss: 0.3738042712211609\n",
            "Epoch [3/10], Step [600/1646], Loss: 0.5408852100372314\n",
            "Epoch [3/10], Step [700/1646], Loss: 0.3946821987628937\n",
            "Epoch [3/10], Step [800/1646], Loss: 0.4380643963813782\n",
            "Epoch [3/10], Step [900/1646], Loss: 0.3746722936630249\n",
            "Epoch [3/10], Step [1000/1646], Loss: 0.3715859055519104\n",
            "Epoch [3/10], Step [1100/1646], Loss: 0.7791060209274292\n",
            "Epoch [3/10], Step [1200/1646], Loss: 0.4390374720096588\n",
            "Epoch [3/10], Step [1300/1646], Loss: 0.4143182933330536\n",
            "Epoch [3/10], Step [1400/1646], Loss: 0.36522939801216125\n",
            "Epoch [3/10], Step [1500/1646], Loss: 0.4996999502182007\n",
            "Epoch [3/10], Step [1600/1646], Loss: 0.3390776216983795\n",
            "Epoch [3/10], Training Loss: 0.4530569587088442, Training Accuracy: 0.8161182403564453, Validation Loss: 0.003102016169577837, Validation Accuracy: 1.0\n",
            "Epoch [4/10], Step [100/1646], Loss: 0.4246230125427246\n",
            "Epoch [4/10], Step [200/1646], Loss: 0.4140111207962036\n",
            "Epoch [4/10], Step [300/1646], Loss: 0.33764126896858215\n",
            "Epoch [4/10], Step [400/1646], Loss: 0.43510982394218445\n",
            "Epoch [4/10], Step [500/1646], Loss: 0.5567730069160461\n",
            "Epoch [4/10], Step [600/1646], Loss: 0.6239315867424011\n",
            "Epoch [4/10], Step [700/1646], Loss: 0.382170706987381\n",
            "Epoch [4/10], Step [800/1646], Loss: 0.5156306624412537\n",
            "Epoch [4/10], Step [900/1646], Loss: 0.5063098669052124\n",
            "Epoch [4/10], Step [1000/1646], Loss: 0.33184927701950073\n",
            "Epoch [4/10], Step [1100/1646], Loss: 0.5289751887321472\n",
            "Epoch [4/10], Step [1200/1646], Loss: 0.374921590089798\n",
            "Epoch [4/10], Step [1300/1646], Loss: 0.5097001791000366\n",
            "Epoch [4/10], Step [1400/1646], Loss: 0.40453919768333435\n",
            "Epoch [4/10], Step [1500/1646], Loss: 0.34149765968322754\n",
            "Epoch [4/10], Step [1600/1646], Loss: 0.3141985833644867\n",
            "Epoch [4/10], Training Loss: 0.38110096168728097, Training Accuracy: 0.8455294370651245, Validation Loss: 0.002877739956602454, Validation Accuracy: 1.0\n",
            "Epoch [5/10], Step [100/1646], Loss: 0.456981897354126\n",
            "Epoch [5/10], Step [200/1646], Loss: 0.2319706827402115\n",
            "Epoch [5/10], Step [300/1646], Loss: 0.33356714248657227\n",
            "Epoch [5/10], Step [400/1646], Loss: 0.29498761892318726\n",
            "Epoch [5/10], Step [500/1646], Loss: 0.31950515508651733\n",
            "Epoch [5/10], Step [600/1646], Loss: 0.4794573187828064\n",
            "Epoch [5/10], Step [700/1646], Loss: 0.25004810094833374\n",
            "Epoch [5/10], Step [800/1646], Loss: 0.2633463442325592\n",
            "Epoch [5/10], Step [900/1646], Loss: 0.3750443756580353\n",
            "Epoch [5/10], Step [1000/1646], Loss: 0.4144241511821747\n",
            "Epoch [5/10], Step [1100/1646], Loss: 0.3988221287727356\n",
            "Epoch [5/10], Step [1200/1646], Loss: 0.2884039878845215\n",
            "Epoch [5/10], Step [1300/1646], Loss: 0.21876496076583862\n",
            "Epoch [5/10], Step [1400/1646], Loss: 0.2893587350845337\n",
            "Epoch [5/10], Step [1500/1646], Loss: 0.36710795760154724\n",
            "Epoch [5/10], Step [1600/1646], Loss: 0.31142523884773254\n",
            "Epoch [5/10], Training Loss: 0.3285934277612123, Training Accuracy: 0.8687697649002075, Validation Loss: 0.00035529976594261825, Validation Accuracy: 1.0\n",
            "Epoch [6/10], Step [100/1646], Loss: 0.1788918823003769\n",
            "Epoch [6/10], Step [200/1646], Loss: 0.38337016105651855\n",
            "Epoch [6/10], Step [300/1646], Loss: 0.3301973342895508\n",
            "Epoch [6/10], Step [400/1646], Loss: 0.3550189733505249\n",
            "Epoch [6/10], Step [500/1646], Loss: 0.2458978146314621\n",
            "Epoch [6/10], Step [600/1646], Loss: 0.30784252285957336\n",
            "Epoch [6/10], Step [700/1646], Loss: 0.2881752550601959\n",
            "Epoch [6/10], Step [800/1646], Loss: 0.29569560289382935\n",
            "Epoch [6/10], Step [900/1646], Loss: 0.19547921419143677\n",
            "Epoch [6/10], Step [1000/1646], Loss: 0.16566835343837738\n",
            "Epoch [6/10], Step [1100/1646], Loss: 0.2974584698677063\n",
            "Epoch [6/10], Step [1200/1646], Loss: 0.2940669059753418\n",
            "Epoch [6/10], Step [1300/1646], Loss: 0.2811490297317505\n",
            "Epoch [6/10], Step [1400/1646], Loss: 0.2925024926662445\n",
            "Epoch [6/10], Step [1500/1646], Loss: 0.2785422205924988\n",
            "Epoch [6/10], Step [1600/1646], Loss: 0.1518547683954239\n",
            "Epoch [6/10], Training Loss: 0.28566571763679294, Training Accuracy: 0.8874152302742004, Validation Loss: 0.00099323526956141, Validation Accuracy: 1.0\n",
            "Epoch [7/10], Step [100/1646], Loss: 0.2542743980884552\n",
            "Epoch [7/10], Step [200/1646], Loss: 0.2065894454717636\n",
            "Epoch [7/10], Step [300/1646], Loss: 0.23241202533245087\n",
            "Epoch [7/10], Step [400/1646], Loss: 0.23067639768123627\n",
            "Epoch [7/10], Step [500/1646], Loss: 0.15458831191062927\n",
            "Epoch [7/10], Step [600/1646], Loss: 0.18887203931808472\n",
            "Epoch [7/10], Step [700/1646], Loss: 0.19817309081554413\n",
            "Epoch [7/10], Step [800/1646], Loss: 0.37936121225357056\n",
            "Epoch [7/10], Step [900/1646], Loss: 0.2090962529182434\n",
            "Epoch [7/10], Step [1000/1646], Loss: 0.22013626992702484\n",
            "Epoch [7/10], Step [1100/1646], Loss: 0.2611021399497986\n",
            "Epoch [7/10], Step [1200/1646], Loss: 0.2738015651702881\n",
            "Epoch [7/10], Step [1300/1646], Loss: 0.30898159742355347\n",
            "Epoch [7/10], Step [1400/1646], Loss: 0.21308577060699463\n",
            "Epoch [7/10], Step [1500/1646], Loss: 0.37306374311447144\n",
            "Epoch [7/10], Step [1600/1646], Loss: 0.2504326403141022\n",
            "Epoch [7/10], Training Loss: 0.2533420053415933, Training Accuracy: 0.8998138904571533, Validation Loss: 0.0007798014557920396, Validation Accuracy: 1.0\n",
            "Epoch [8/10], Step [100/1646], Loss: 0.2635306417942047\n",
            "Epoch [8/10], Step [200/1646], Loss: 0.12233392149209976\n",
            "Epoch [8/10], Step [300/1646], Loss: 0.2630983591079712\n",
            "Epoch [8/10], Step [400/1646], Loss: 0.31267887353897095\n",
            "Epoch [8/10], Step [500/1646], Loss: 0.16252073645591736\n",
            "Epoch [8/10], Step [600/1646], Loss: 0.2987454831600189\n",
            "Epoch [8/10], Step [700/1646], Loss: 0.24501292407512665\n",
            "Epoch [8/10], Step [800/1646], Loss: 0.15230368077754974\n",
            "Epoch [8/10], Step [900/1646], Loss: 0.23475226759910583\n",
            "Epoch [8/10], Step [1000/1646], Loss: 0.06118517741560936\n",
            "Epoch [8/10], Step [1100/1646], Loss: 0.13002456724643707\n",
            "Epoch [8/10], Step [1200/1646], Loss: 0.10908584296703339\n",
            "Epoch [8/10], Step [1300/1646], Loss: 0.22090590000152588\n",
            "Epoch [8/10], Step [1400/1646], Loss: 0.2954632639884949\n",
            "Epoch [8/10], Step [1500/1646], Loss: 0.22241054475307465\n",
            "Epoch [8/10], Step [1600/1646], Loss: 0.2221071869134903\n",
            "Epoch [8/10], Training Loss: 0.22623864219796685, Training Accuracy: 0.9108359813690186, Validation Loss: 0.002392764901742339, Validation Accuracy: 1.0\n",
            "Epoch [9/10], Step [100/1646], Loss: 0.18215498328208923\n",
            "Epoch [9/10], Step [200/1646], Loss: 0.13717961311340332\n",
            "Epoch [9/10], Step [300/1646], Loss: 0.3278166353702545\n",
            "Epoch [9/10], Step [400/1646], Loss: 0.4180816411972046\n",
            "Epoch [9/10], Step [500/1646], Loss: 0.16306057572364807\n",
            "Epoch [9/10], Step [600/1646], Loss: 0.3301352858543396\n",
            "Epoch [9/10], Step [700/1646], Loss: 0.20363707840442657\n",
            "Epoch [9/10], Step [800/1646], Loss: 0.1652158945798874\n",
            "Epoch [9/10], Step [900/1646], Loss: 0.14174307882785797\n",
            "Epoch [9/10], Step [1000/1646], Loss: 0.20540933310985565\n",
            "Epoch [9/10], Step [1100/1646], Loss: 0.12064790725708008\n",
            "Epoch [9/10], Step [1200/1646], Loss: 0.11322802305221558\n",
            "Epoch [9/10], Step [1300/1646], Loss: 0.18275542557239532\n",
            "Epoch [9/10], Step [1400/1646], Loss: 0.13129784166812897\n",
            "Epoch [9/10], Step [1500/1646], Loss: 0.1398889422416687\n",
            "Epoch [9/10], Step [1600/1646], Loss: 0.2582407295703888\n",
            "Epoch [9/10], Training Loss: 0.20198874480406756, Training Accuracy: 0.9216586947441101, Validation Loss: 0.00011848701251437888, Validation Accuracy: 1.0\n",
            "Epoch [10/10], Step [100/1646], Loss: 0.24318832159042358\n",
            "Epoch [10/10], Step [200/1646], Loss: 0.23627173900604248\n",
            "Epoch [10/10], Step [300/1646], Loss: 0.169633150100708\n",
            "Epoch [10/10], Step [400/1646], Loss: 0.2020871639251709\n",
            "Epoch [10/10], Step [500/1646], Loss: 0.16977006196975708\n",
            "Epoch [10/10], Step [600/1646], Loss: 0.2342151701450348\n",
            "Epoch [10/10], Step [700/1646], Loss: 0.15673589706420898\n",
            "Epoch [10/10], Step [800/1646], Loss: 0.1840805858373642\n",
            "Epoch [10/10], Step [900/1646], Loss: 0.21872366964817047\n",
            "Epoch [10/10], Step [1000/1646], Loss: 0.1374836564064026\n",
            "Epoch [10/10], Step [1100/1646], Loss: 0.25204840302467346\n",
            "Epoch [10/10], Step [1200/1646], Loss: 0.22150202095508575\n",
            "Epoch [10/10], Step [1300/1646], Loss: 0.3200719654560089\n",
            "Epoch [10/10], Step [1400/1646], Loss: 0.26923668384552\n",
            "Epoch [10/10], Step [1500/1646], Loss: 0.1756901890039444\n",
            "Epoch [10/10], Step [1600/1646], Loss: 0.23156411945819855\n",
            "Epoch [10/10], Training Loss: 0.18421268283433642, Training Accuracy: 0.9290636777877808, Validation Loss: 4.410734163684538e-06, Validation Accuracy: 1.0\n"
          ]
        }
      ],
      "source": [
        "import torch\n",
        "import torchvision.transforms as transforms\n",
        "import torchvision.datasets as datasets\n",
        "import torch.optim as optim\n",
        "import torch.nn as nn\n",
        "import torch.nn.functional as F\n",
        "from torchvision.models import shufflenet_v2_x1_0\n",
        "from sklearn.metrics import confusion_matrix, classification_report\n",
        "import seaborn as sns\n",
        "import matplotlib.pyplot as plt\n",
        "import numpy as np\n",
        "\n",
        "device = torch.device(\"cuda\" if torch.cuda.is_available() else \"cpu\")\n",
        "\n",
        "batch_size = 64\n",
        "learning_rate = 0.0001\n",
        "num_epochs = 10\n",
        "\n",
        "\n",
        " \n",
        "model = shufflenet_v2_x1_0(pretrained=False, num_classes=29).to(device)\n",
        "\n",
        " \n",
        "criterion = nn.CrossEntropyLoss()\n",
        "optimizer = optim.Adam(model.parameters(), lr=learning_rate)\n",
        "\n",
        "training_loss = []\n",
        "validation_loss = []\n",
        "training_accuracy = []\n",
        "validation_accuracy = []\n",
        "\n",
        "for epoch in range(num_epochs):\n",
        "    running_training_loss = 0.0\n",
        "    running_training_accuracy = 0.0\n",
        "    model.train()\n",
        "    for i, (inputs, labels) in enumerate(data_loader_train):\n",
        "        optimizer.zero_grad()\n",
        "        inputs = inputs.to(d)  \n",
        "        labels = labels.to(d) \n",
        "        outputs = model(inputs)\n",
        "        loss = criterion(outputs, labels)\n",
        "        loss.backward()\n",
        "        optimizer.step()\n",
        "        running_training_loss += loss.item()\n",
        "        if (i+1) % 100 == 0:\n",
        "            print(f'Epoch [{epoch+1}/{num_epochs}], Step [{i+1}/{len(data_loader_train)}], Loss: {loss.item()}')\n",
        "        _, preds = torch.max(outputs, 1)\n",
        "        running_training_accuracy += torch.sum(preds == labels.data)\n",
        "    \n",
        "    epoch_training_loss = running_training_loss / len(data_loader_train)\n",
        "    epoch_training_accuracy = running_training_accuracy / len(data_loader_train.dataset)\n",
        "    training_loss.append(epoch_training_loss)\n",
        "    training_accuracy.append(epoch_training_accuracy)\n",
        "    \n",
        "    running_validation_loss = 0.0\n",
        "    running_validation_accuracy = 0.0\n",
        "    model.eval()\n",
        "    with torch.no_grad():\n",
        "        for i, (inputs, labels) in enumerate(data_loader_val):\n",
        "            inputs = inputs.to(d)  \n",
        "            labels = labels.to(d)\n",
        "            outputs = model(inputs)\n",
        "            loss = criterion(outputs, labels)\n",
        "            running_validation_loss += loss.item()\n",
        "            _, preds = torch.max(outputs, 1)\n",
        "            running_validation_accuracy += torch.sum(preds == labels.data)\n",
        "    \n",
        "    epoch_validation_loss = running_validation_loss / len(data_loader_val)\n",
        "    epoch_validation_accuracy = running_validation_accuracy / len(data_loader_val.dataset)\n",
        "    validation_loss.append(epoch_validation_loss)\n",
        "    validation_accuracy.append(epoch_validation_accuracy)\n",
        "    print('Epoch [{}/{}], Training Loss: {}, Training Accuracy: {}, Validation Loss: {}, Validation Accuracy: {}'\n",
        "          .format(epoch+1, num_epochs, epoch_training_loss, epoch_training_accuracy, epoch_validation_loss, epoch_validation_accuracy))\n",
        "\n",
        "  \n"
      ]
    },
    {
      "cell_type": "code",
      "source": [
        "from sklearn.metrics import accuracy_score, confusion_matrix, classification_report\n",
        "import seaborn as sns\n",
        "\n",
        "model.eval()\n",
        "with torch.no_grad():\n",
        "    test_preds = []\n",
        "    test_labels = []\n",
        "    for inputs, labels in data_loader_test:\n",
        "        inputs = inputs.to(d)\n",
        "        labels = labels.to(d)\n",
        "        outputs = model(inputs)\n",
        "        _, preds = torch.max(outputs, 1)\n",
        "        test_preds.extend(preds.tolist())\n",
        "        test_labels.extend(labels.tolist())\n",
        "\n",
        "test_acc = accuracy_score(test_labels, test_preds)\n",
        "print('Test Accuracy: {}'.format(test_acc))\n"
      ],
      "metadata": {
        "colab": {
          "base_uri": "https://localhost:8080/"
        },
        "id": "FvUcO2KmhY5w",
        "outputId": "702f29fc-5152-4783-bafa-e438b3790514"
      },
      "execution_count": 18,
      "outputs": [
        {
          "output_type": "stream",
          "name": "stdout",
          "text": [
            "Test Accuracy: 0.9244673983214977\n"
          ]
        }
      ]
    },
    {
      "cell_type": "code",
      "source": [
        "\n",
        "#target_names = list(data_loader_train.class_to_idx.keys())\n",
        "cm = confusion_matrix(test_labels, test_preds)\n",
        "sns.heatmap(cm, annot=True, cmap='Oranges')\n",
        "plt.xlabel('Predicted')\n",
        "plt.ylabel('Actual')\n",
        "plt.show()\n",
        "\n",
        "print(classification_report(test_labels, test_preds))"
      ],
      "metadata": {
        "colab": {
          "base_uri": "https://localhost:8080/",
          "height": 657
        },
        "id": "GJKSfZuF-TXo",
        "outputId": "ec677870-b355-4bd7-ed14-7d20185bcefa"
      },
      "execution_count": 19,
      "outputs": [
        {
          "output_type": "display_data",
          "data": {
            "text/plain": [
              "<Figure size 640x480 with 2 Axes>"
            ],
            "image/png": "[encoded data removed]"
          },
          "metadata": {}
        },
        {
          "output_type": "stream",
          "name": "stdout",
          "text": [
            "              precision    recall  f1-score   support\n",
            "\n",
            "           0       0.91      0.99      0.95      5133\n",
            "           1       0.92      0.86      0.89      5587\n",
            "           2       0.86      0.90      0.88      5305\n",
            "           3       0.98      0.95      0.96      5249\n",
            "           4       0.96      0.92      0.94      5059\n",
            "\n",
            "    accuracy                           0.92     26333\n",
            "   macro avg       0.93      0.93      0.93     26333\n",
            "weighted avg       0.93      0.92      0.92     26333\n",
            "\n"
          ]
        }
      ]
    },
    {
      "cell_type": "code",
      "source": [
        "training_accuracy_tensor = torch.tensor(training_accuracy)\n",
        "validation_accuracy_tensor = torch.tensor(validation_accuracy)\n",
        "\n",
        "plt.plot(training_accuracy_tensor.to('cpu'), label='Training Accuracy')\n",
        "plt.plot(validation_accuracy_tensor.to('cpu'), label='Validation Accuracy')\n",
        "plt.title('Training Accuracy, Validation Accuaracy vs epochs for Shufflnet Transfer learning')\n",
        "plt.xlabel('Epoch')\n",
        "plt.ylabel('Accuracy')\n",
        "plt.legend()\n",
        "plt.show()"
      ],
      "metadata": {
        "colab": {
          "base_uri": "https://localhost:8080/",
          "height": 472
        },
        "id": "Q-wMeEqD-UiL",
        "outputId": "63cc7cdf-684a-4989-9316-5f9b0a16a256"
      },
      "execution_count": 21,
      "outputs": [
        {
          "output_type": "display_data",
          "data": {
            "text/plain": [
              "<Figure size 640x480 with 1 Axes>"
            ],
            "image/png": "[encoded data removed]"
          },
          "metadata": {}
        }
      ]
    },
    {
      "cell_type": "code",
      "source": [
        "from google.colab import drive\n",
        "drive.mount('/content/drive')"
      ],
      "metadata": {
        "colab": {
          "base_uri": "https://localhost:8080/"
        },
        "id": "oWQKL5Li_Qhm",
        "outputId": "c26ae21f-8af0-4325-d84c-c97a1a82e3f3"
      },
      "execution_count": 22,
      "outputs": [
        {
          "output_type": "stream",
          "name": "stdout",
          "text": [
            "Mounted at /content/drive\n"
          ]
        }
      ]
    },
    {
      "cell_type": "code",
      "source": [
        "data_folder = '/content/drive/MyDrive/asl_alphabet_train'"
      ],
      "metadata": {
        "id": "YrTb-QC4DE4O"
      },
      "execution_count": 23,
      "outputs": []
    },
    {
      "cell_type": "code",
      "source": [
        "cd content"
      ],
      "metadata": {
        "colab": {
          "base_uri": "https://localhost:8080/"
        },
        "id": "v0wJqEGOD4nx",
        "outputId": "28f71265-5a36-41f0-aa8a-d5cb2ccd5434"
      },
      "execution_count": 28,
      "outputs": [
        {
          "output_type": "stream",
          "name": "stdout",
          "text": [
            "/content\n"
          ]
        }
      ]
    },
    {
      "cell_type": "code",
      "source": [
        "cd drive"
      ],
      "metadata": {
        "colab": {
          "base_uri": "https://localhost:8080/"
        },
        "id": "U7SNFUz3EDjd",
        "outputId": "eb6de5f2-a039-49e6-bc05-d12172931fc1"
      },
      "execution_count": 30,
      "outputs": [
        {
          "output_type": "stream",
          "name": "stdout",
          "text": [
            "/content/drive\n"
          ]
        }
      ]
    },
    {
      "cell_type": "code",
      "source": [
        "cd MyDrive"
      ],
      "metadata": {
        "colab": {
          "base_uri": "https://localhost:8080/"
        },
        "id": "uLL3LCRWEH3m",
        "outputId": "6f8e256a-3267-4c16-ed13-2e1194bceaaf"
      },
      "execution_count": 31,
      "outputs": [
        {
          "output_type": "stream",
          "name": "stdout",
          "text": [
            "/content/drive/MyDrive\n"
          ]
        }
      ]
    },
    {
      "cell_type": "code",
      "source": [
        "\n",
        "\n",
        "num_classes=3\n",
        "model = torch.hub.load('pytorch/vision:v0.10.0', 'shufflenet_v2_x1_0', pretrained=False)\n",
        "num_features = model.fc.in_features     #extract fc layers features\n",
        "model.fc = nn.Linear(num_features, 3 )\n",
        "model = model.to(d)\n",
        "transforms = transforms.Compose([\n",
        "    transforms.Resize((224, 224)),\n",
        "    transforms.RandomHorizontalFlip(),\n",
        "    transforms.RandomRotation(10),\n",
        "    transforms.ToTensor()\n",
        "])\n",
        "dataset = datasets.ImageFolder(r\"asl_alphabet_train\", transform=transforms)\n",
        "train_size = int(0.7 * len(dataset))\n",
        "validation_size=int(0.1*len(dataset))\n",
        "test_size = len(dataset) - (train_size+validation_size)\n",
        "train_dataset,validation_dataset,test_dataset = torch.utils.data.random_split(dataset, [train_size,validation_size, test_size])\n",
        "train_dataset.transform=transforms\n",
        "from torch.utils.data import DataLoader\n",
        "loader_train=DataLoader(train_dataset,batch_size=64,shuffle=True )\n",
        "loader_val=DataLoader(validation_dataset,batch_size=64,shuffle=True)\n",
        "loader_test=DataLoader(test_dataset,batch_size=64,shuffle=True)"
      ],
      "metadata": {
        "colab": {
          "base_uri": "https://localhost:8080/"
        },
        "id": "sciipOq6DQR8",
        "outputId": "6a0aa3ca-6d63-4f4e-dbad-618adc4cc2a0"
      },
      "execution_count": 40,
      "outputs": [
        {
          "output_type": "stream",
          "name": "stderr",
          "text": [
            "Using cache found in /root/.cache/torch/hub/pytorch_vision_v0.10.0\n"
          ]
        }
      ]
    },
    {
      "cell_type": "code",
      "source": [
        "import torch\n",
        "import torchvision.transforms as transforms\n",
        "import torchvision.datasets as datasets\n",
        "import torch.optim as optim\n",
        "import torch.nn as nn\n",
        "import torch.nn.functional as F\n",
        "from torchvision.models import shufflenet_v2_x1_0\n",
        "from sklearn.metrics import confusion_matrix, classification_report\n",
        "import seaborn as sns\n",
        "import matplotlib.pyplot as plt\n",
        "import numpy as np\n",
        "\n",
        "device = torch.device(\"cuda\" if torch.cuda.is_available() else \"cpu\")\n",
        "\n",
        "batch_size = 64\n",
        "learning_rate = 0.0001\n",
        "num_epochs = 10\n",
        "\n",
        "\n",
        "\n",
        " \n",
        "criterion = nn.CrossEntropyLoss()\n",
        "optimizer = optim.Adam(model.parameters(), lr=learning_rate)\n",
        "\n",
        "training_loss = []\n",
        "validation_loss = []\n",
        "training_accuracy = []\n",
        "validation_accuracy = []\n",
        "\n",
        "for epoch in range(num_epochs):\n",
        "    running_training_loss = 0.0\n",
        "    running_training_accuracy = 0.0\n",
        "    model.train()\n",
        "    for i, (inputs, labels) in enumerate(loader_train):\n",
        "        optimizer.zero_grad()\n",
        "        inputs = inputs.to(d)  \n",
        "        labels = labels.to(d) \n",
        "        outputs = model(inputs)\n",
        "        loss = criterion(outputs, labels)\n",
        "        loss.backward()\n",
        "        optimizer.step()\n",
        "        running_training_loss += loss.item()\n",
        "        if (i+1) % 100 == 0:\n",
        "            print(f'Epoch [{epoch+1}/{num_epochs}], Step [{i+1}/{len(loader_train)}], Loss: {loss.item()}')\n",
        "        _, preds = torch.max(outputs, 1)\n",
        "        running_training_accuracy += torch.sum(preds == labels.data)\n",
        "    \n",
        "    epoch_training_loss = running_training_loss / len(loader_train)\n",
        "    epoch_training_accuracy = running_training_accuracy / len(loader_train.dataset)\n",
        "    training_loss.append(epoch_training_loss)\n",
        "    training_accuracy.append(epoch_training_accuracy)\n",
        "    \n",
        "    running_validation_loss = 0.0\n",
        "    running_validation_accuracy = 0.0\n",
        "    model.eval()\n",
        "    with torch.no_grad():\n",
        "        for i, (inputs, labels) in enumerate(loader_val):\n",
        "            inputs = inputs.to(d)  \n",
        "            labels = labels.to(d)\n",
        "            outputs = model(inputs)\n",
        "            loss = criterion(outputs, labels)\n",
        "            running_validation_loss += loss.item()\n",
        "            _, preds = torch.max(outputs, 1)\n",
        "            running_validation_accuracy += torch.sum(preds == labels.data)\n",
        "    \n",
        "    epoch_validation_loss = running_validation_loss / len(loader_val)\n",
        "    epoch_validation_accuracy = running_validation_accuracy / len(loader_val.dataset)\n",
        "    validation_loss.append(epoch_validation_loss)\n",
        "    validation_accuracy.append(epoch_validation_accuracy)\n",
        "    print('Epoch [{}/{}], Training Loss: {}, Training Accuracy: {}, Validation Loss: {}, Validation Accuracy: {}'\n",
        "          .format(epoch+1, num_epochs, epoch_training_loss, epoch_training_accuracy, epoch_validation_loss, epoch_validation_accuracy))\n",
        "\n",
        "  \n"
      ],
      "metadata": {
        "id": "cFcVIEaWD2be"
      },
      "execution_count": null,
      "outputs": []
    },
    {
      "cell_type": "code",
      "source": [],
      "metadata": {
        "id": "AGbnt_kfF6X9"
      },
      "execution_count": null,
      "outputs": []
    }
  ],
  "metadata": {
    "accelerator": "GPU",
    "colab": {
      "machine_shape": "hm",
      "provenance": []
    },
    "gpuClass": "standard",
    "kernelspec": {
      "display_name": "Python 3",
      "name": "python3"
    },
    "language_info": {
      "name": "python"
    }
  },
  "nbformat": 4,
  "nbformat_minor": 0
}