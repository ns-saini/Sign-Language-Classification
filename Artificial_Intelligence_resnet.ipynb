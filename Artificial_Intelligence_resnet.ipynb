{
 "cells": [
  {
   "cell_type": "code",
   "execution_count": null,
   "metadata": {
    "id": "JFMqjt4DwHUR"
   },
   "outputs": [],
   "source": [
    "import os\n",
    "os.environ['KAGGLE_USERNAME']=\"simransohal\"\n",
    "os.environ['KAGGLE_KEY']=\"3aa7697cd9a4ba2a3715c4a29c0f0cb6\""
   ]
  },
  {
   "cell_type": "code",
   "execution_count": null,
   "metadata": {
    "colab": {
     "base_uri": "https://localhost:8080/"
    },
    "id": "tLOO6Btew4JP",
    "outputId": "58abd2d5-236c-4ece-d68a-457f89655f13"
   },
   "outputs": [
    {
     "name": "stdout",
     "output_type": "stream",
     "text": [
      "asl-alphabet.zip: Skipping, found more recently modified local copy (use --force to force download)\n"
     ]
    }
   ],
   "source": [
    "!kaggle datasets download -d grassknoted/asl-alphabet"
   ]
  },
  {
   "cell_type": "code",
   "execution_count": null,
   "metadata": {
    "colab": {
     "base_uri": "https://localhost:8080/"
    },
    "id": "Tcuu6XXWw-S1",
    "outputId": "f9a23415-e1c5-4d8f-81f7-bda54b617729"
   },
   "outputs": [
    {
     "name": "stdout",
     "output_type": "stream",
     "text": [
      "\u001b[0m\u001b[01;34masl_alphabet_test\u001b[0m/  \u001b[01;34masl_alphabet_train\u001b[0m/  asl-alphabet.zip  \u001b[01;34msample_data\u001b[0m/\n"
     ]
    }
   ],
   "source": [
    "ls"
   ]
  },
  {
   "cell_type": "code",
   "execution_count": null,
   "metadata": {
    "id": "Rarc6yEjyJRC"
   },
   "outputs": [],
   "source": [
    "import zipfile\n",
    "with zipfile.ZipFile('asl-alphabet.zip', 'r') as zip_ref:\n",
    "    zip_ref.extractall()"
   ]
  },
  {
   "cell_type": "code",
   "execution_count": null,
   "metadata": {
    "colab": {
     "base_uri": "https://localhost:8080/"
    },
    "id": "8XodsxbryQTe",
    "outputId": "a6caa076-4609-45d0-b7b7-85f1599e8d2c"
   },
   "outputs": [
    {
     "name": "stdout",
     "output_type": "stream",
     "text": [
      "\u001b[0m\u001b[01;34masl_alphabet_test\u001b[0m/  \u001b[01;34masl_alphabet_train\u001b[0m/  asl-alphabet.zip  \u001b[01;34msample_data\u001b[0m/\n"
     ]
    }
   ],
   "source": [
    "ls"
   ]
  },
  {
   "cell_type": "code",
   "execution_count": 5,
   "metadata": {
    "id": "gysxU2qNyZbG"
   },
   "outputs": [],
   "source": [
    "import torch\n",
    "import torch.nn as nn\n",
    "import torch.optim as optim\n",
    "import torchvision\n",
    "from torchvision import datasets, models, transforms\n",
    "import torch.hub \n",
    "import numpy as np\n",
    "import matplotlib.pyplot as plt\n",
    "import cv2\n",
    "import time\n",
    "import os\n",
    "from torchvision.io import read_image\n",
    "from torch.utils.data import Dataset, DataLoader\n",
    "from torch.optim import Adam\n",
    "\n",
    "device = torch.device(\"cuda:0\" if torch.cuda.is_available() else \"cpu\") # device object"
   ]
  },
  {
   "cell_type": "code",
   "execution_count": 6,
   "metadata": {
    "id": "ba71D5Kx1jjV"
   },
   "outputs": [],
   "source": [
    "d=torch.device(\"cuda\" if torch.cuda.is_available() else \"cpu\")"
   ]
  },
  {
   "cell_type": "code",
   "execution_count": 7,
   "metadata": {
    "colab": {
     "base_uri": "https://localhost:8080/"
    },
    "id": "Ax7Mujtp12li",
    "outputId": "88d27d1c-f0d4-4abf-ce82-14da6fd26cf1"
   },
   "outputs": [
    {
     "name": "stderr",
     "output_type": "stream",
     "text": [
      "c:\\users\\nisha\\appdata\\local\\programs\\python\\python39\\lib\\site-packages\\torchvision\\models\\_utils.py:208: UserWarning: The parameter 'pretrained' is deprecated since 0.13 and may be removed in the future, please use 'weights' instead.\n",
      "  warnings.warn(\n",
      "c:\\users\\nisha\\appdata\\local\\programs\\python\\python39\\lib\\site-packages\\torchvision\\models\\_utils.py:223: UserWarning: Arguments other than a weight enum or `None` for 'weights' are deprecated since 0.13 and may be removed in the future. The current behavior is equivalent to passing `weights=None`.\n",
      "  warnings.warn(msg)\n"
     ]
    }
   ],
   "source": [
    "model=models.resnet18(pretrained=False)"
   ]
  },
  {
   "cell_type": "code",
   "execution_count": 8,
   "metadata": {
    "colab": {
     "base_uri": "https://localhost:8080/"
    },
    "id": "E8WHAYP12-Q9",
    "outputId": "5bf735a4-9ef3-428f-dbed-faeaf7642608"
   },
   "outputs": [
    {
     "name": "stdout",
     "output_type": "stream",
     "text": [
      " Volume in drive C is OS\n",
      " Volume Serial Number is 1050-3BDA\n",
      "\n",
      " Directory of C:\\COMP6721\\ASL_to_Text_Classification\n",
      "\n",
      "2023-03-16  01:54 PM    <DIR>          .\n",
      "2023-03-11  08:57 PM    <DIR>          ..\n",
      "2023-03-11  08:57 PM             1,928 .gitignore\n",
      "2023-03-16  01:50 PM    <DIR>          .ipynb_checkpoints\n",
      "2023-03-16  01:52 PM            18,133 Artificial_Intelligence_resnet.ipynb\n",
      "2023-03-11  08:57 PM                42 CHANGE.md\n",
      "2023-03-11  08:59 PM    <DIR>          Proposal\n",
      "2023-03-11  08:57 PM                51 README.md\n",
      "2023-03-16  01:54 PM             9,121 ShuffleNet-Signs.ipynb\n",
      "2023-03-11  08:58 PM    <DIR>          signs_train\n",
      "               5 File(s)         29,275 bytes\n",
      "               5 Dir(s)  20,232,339,456 bytes free\n"
     ]
    }
   ],
   "source": [
    "ls"
   ]
  },
  {
   "cell_type": "code",
   "execution_count": 9,
   "metadata": {
    "id": "eWXRoNNCTFvy"
   },
   "outputs": [],
   "source": [
    "#Getting the number of input features in fully connected layer\n",
    "#Model is to be classified in just three layers\n",
    "#Created a new layer and replaced the fully connected layer with it\n",
    "num_classes=3\n",
    "features=model.fc.in_features\n",
    "model.fc=nn.Linear(features,num_classes)"
   ]
  },
  {
   "cell_type": "code",
   "execution_count": 10,
   "metadata": {
    "id": "MTZeAEtDWUlt"
   },
   "outputs": [],
   "source": [
    "model=model.to(d)"
   ]
  },
  {
   "cell_type": "code",
   "execution_count": 11,
   "metadata": {
    "id": "S59KGVITWghg"
   },
   "outputs": [],
   "source": [
    "transformations=transforms.Compose([transforms.Resize(256),transforms.CenterCrop(224),transforms.ToTensor(),transforms.Normalize(mean=[0.485,0.456,0.406],std=[0.229,0.224,0.225])])"
   ]
  },
  {
   "cell_type": "code",
   "execution_count": 12,
   "metadata": {
    "id": "WWNV0DMKgqx_"
   },
   "outputs": [],
   "source": [
    "data=datasets.ImageFolder(r\"C:\\COMP6721\\ASL_to_Text_Classification\\signs_train\\asl_alphabet_train\\asl_alphabet_train\",transform=transformations)"
   ]
  },
  {
   "cell_type": "code",
   "execution_count": null,
   "metadata": {
    "id": "Qvjisi2Iq2y5"
   },
   "outputs": [],
   "source": []
  },
  {
   "cell_type": "code",
   "execution_count": 13,
   "metadata": {
    "id": "oIa9KJiIrbHp"
   },
   "outputs": [],
   "source": [
    "optimizer=Adam(model.parameters(),lr=0.001)\n",
    "criterion=nn.CrossEntropyLoss()"
   ]
  },
  {
   "cell_type": "code",
   "execution_count": 14,
   "metadata": {
    "id": "aDSQqxGqsCAE"
   },
   "outputs": [],
   "source": [
    "from torch.utils.data import DataLoader\n",
    "loader_train=DataLoader(data,batch_size=32,shuffle=True )\n",
    "loader_test=DataLoader(data,batch_size=32,shuffle=True)"
   ]
  },
  {
   "cell_type": "code",
   "execution_count": 15,
   "metadata": {
    "colab": {
     "base_uri": "https://localhost:8080/"
    },
    "id": "pDoo8KzntUy3",
    "outputId": "f7e73f3e-43d5-4921-c872-bca196c0de73"
   },
   "outputs": [
    {
     "name": "stdout",
     "output_type": "stream",
     "text": [
      "Device: cuda:0\n",
      "Epoch [1/20], Step [50/282], Loss: 0.3418, Accuracy: 84.38%\n",
      "Epoch [1/20], Step [100/282], Loss: 0.0281, Accuracy: 100.00%\n",
      "Epoch [1/20], Step [150/282], Loss: 0.1405, Accuracy: 93.75%\n",
      "Epoch [1/20], Step [200/282], Loss: 0.0561, Accuracy: 96.88%\n",
      "Epoch [1/20], Step [250/282], Loss: 0.0234, Accuracy: 100.00%\n",
      "Epoch [2/20], Step [50/282], Loss: 0.0019, Accuracy: 100.00%\n",
      "Epoch [2/20], Step [100/282], Loss: 0.0012, Accuracy: 100.00%\n",
      "Epoch [2/20], Step [150/282], Loss: 0.0017, Accuracy: 100.00%\n",
      "Epoch [2/20], Step [200/282], Loss: 0.0011, Accuracy: 100.00%\n",
      "Epoch [2/20], Step [250/282], Loss: 0.0062, Accuracy: 100.00%\n",
      "Epoch [3/20], Step [50/282], Loss: 0.1053, Accuracy: 96.88%\n",
      "Epoch [3/20], Step [100/282], Loss: 0.0078, Accuracy: 100.00%\n",
      "Epoch [3/20], Step [150/282], Loss: 0.0073, Accuracy: 100.00%\n",
      "Epoch [3/20], Step [200/282], Loss: 0.0120, Accuracy: 100.00%\n",
      "Epoch [3/20], Step [250/282], Loss: 0.0007, Accuracy: 100.00%\n",
      "Epoch [4/20], Step [50/282], Loss: 0.0019, Accuracy: 100.00%\n",
      "Epoch [4/20], Step [100/282], Loss: 0.0001, Accuracy: 100.00%\n",
      "Epoch [4/20], Step [150/282], Loss: 0.0046, Accuracy: 100.00%\n",
      "Epoch [4/20], Step [200/282], Loss: 0.0004, Accuracy: 100.00%\n",
      "Epoch [4/20], Step [250/282], Loss: 0.0004, Accuracy: 100.00%\n",
      "Epoch [5/20], Step [50/282], Loss: 0.0002, Accuracy: 100.00%\n",
      "Epoch [5/20], Step [100/282], Loss: 0.0006, Accuracy: 100.00%\n",
      "Epoch [5/20], Step [150/282], Loss: 0.0008, Accuracy: 100.00%\n",
      "Epoch [5/20], Step [200/282], Loss: 0.0001, Accuracy: 100.00%\n",
      "Epoch [5/20], Step [250/282], Loss: 0.0002, Accuracy: 100.00%\n",
      "Epoch [6/20], Step [50/282], Loss: 0.0000, Accuracy: 100.00%\n",
      "Epoch [6/20], Step [100/282], Loss: 0.0001, Accuracy: 100.00%\n",
      "Epoch [6/20], Step [150/282], Loss: 0.0009, Accuracy: 100.00%\n",
      "Epoch [6/20], Step [200/282], Loss: 0.0001, Accuracy: 100.00%\n",
      "Epoch [6/20], Step [250/282], Loss: 0.0000, Accuracy: 100.00%\n",
      "Epoch [7/20], Step [50/282], Loss: 0.0000, Accuracy: 100.00%\n",
      "Epoch [7/20], Step [100/282], Loss: 0.0009, Accuracy: 100.00%\n",
      "Epoch [7/20], Step [150/282], Loss: 0.0001, Accuracy: 100.00%\n",
      "Epoch [7/20], Step [200/282], Loss: 0.0000, Accuracy: 100.00%\n",
      "Epoch [7/20], Step [250/282], Loss: 0.0038, Accuracy: 100.00%\n",
      "Epoch [8/20], Step [50/282], Loss: 0.0062, Accuracy: 100.00%\n",
      "Epoch [8/20], Step [100/282], Loss: 0.0005, Accuracy: 100.00%\n",
      "Epoch [8/20], Step [150/282], Loss: 0.0015, Accuracy: 100.00%\n",
      "Epoch [8/20], Step [200/282], Loss: 0.0002, Accuracy: 100.00%\n",
      "Epoch [8/20], Step [250/282], Loss: 0.0006, Accuracy: 100.00%\n",
      "Epoch [9/20], Step [50/282], Loss: 0.0005, Accuracy: 100.00%\n",
      "Epoch [9/20], Step [100/282], Loss: 0.0003, Accuracy: 100.00%\n",
      "Epoch [9/20], Step [150/282], Loss: 0.0001, Accuracy: 100.00%\n",
      "Epoch [9/20], Step [200/282], Loss: 0.0006, Accuracy: 100.00%\n",
      "Epoch [9/20], Step [250/282], Loss: 0.0001, Accuracy: 100.00%\n",
      "Epoch [10/20], Step [50/282], Loss: 0.0001, Accuracy: 100.00%\n",
      "Epoch [10/20], Step [100/282], Loss: 0.0000, Accuracy: 100.00%\n",
      "Epoch [10/20], Step [150/282], Loss: 0.0000, Accuracy: 100.00%\n",
      "Epoch [10/20], Step [200/282], Loss: 0.0000, Accuracy: 100.00%\n",
      "Epoch [10/20], Step [250/282], Loss: 0.0001, Accuracy: 100.00%\n",
      "Epoch [11/20], Step [50/282], Loss: 0.0000, Accuracy: 100.00%\n",
      "Epoch [11/20], Step [100/282], Loss: 0.0001, Accuracy: 100.00%\n",
      "Epoch [11/20], Step [150/282], Loss: 0.0000, Accuracy: 100.00%\n",
      "Epoch [11/20], Step [200/282], Loss: 0.0000, Accuracy: 100.00%\n",
      "Epoch [11/20], Step [250/282], Loss: 0.0000, Accuracy: 100.00%\n",
      "Epoch [12/20], Step [50/282], Loss: 0.0000, Accuracy: 100.00%\n",
      "Epoch [12/20], Step [100/282], Loss: 0.0001, Accuracy: 100.00%\n",
      "Epoch [12/20], Step [150/282], Loss: 0.0001, Accuracy: 100.00%\n",
      "Epoch [12/20], Step [200/282], Loss: 0.0103, Accuracy: 100.00%\n",
      "Epoch [12/20], Step [250/282], Loss: 0.0103, Accuracy: 100.00%\n",
      "Epoch [13/20], Step [50/282], Loss: 0.0029, Accuracy: 100.00%\n",
      "Epoch [13/20], Step [100/282], Loss: 0.0003, Accuracy: 100.00%\n",
      "Epoch [13/20], Step [150/282], Loss: 0.0001, Accuracy: 100.00%\n",
      "Epoch [13/20], Step [200/282], Loss: 0.0182, Accuracy: 100.00%\n",
      "Epoch [13/20], Step [250/282], Loss: 0.3687, Accuracy: 93.75%\n",
      "Epoch [14/20], Step [50/282], Loss: 0.0002, Accuracy: 100.00%\n",
      "Epoch [14/20], Step [100/282], Loss: 0.0004, Accuracy: 100.00%\n",
      "Epoch [14/20], Step [150/282], Loss: 0.0002, Accuracy: 100.00%\n",
      "Epoch [14/20], Step [200/282], Loss: 0.0001, Accuracy: 100.00%\n",
      "Epoch [14/20], Step [250/282], Loss: 0.0000, Accuracy: 100.00%\n",
      "Epoch [15/20], Step [50/282], Loss: 0.0005, Accuracy: 100.00%\n",
      "Epoch [15/20], Step [100/282], Loss: 0.0002, Accuracy: 100.00%\n",
      "Epoch [15/20], Step [150/282], Loss: 0.0009, Accuracy: 100.00%\n",
      "Epoch [15/20], Step [200/282], Loss: 0.0001, Accuracy: 100.00%\n",
      "Epoch [15/20], Step [250/282], Loss: 0.0000, Accuracy: 100.00%\n",
      "Epoch [16/20], Step [50/282], Loss: 0.0002, Accuracy: 100.00%\n",
      "Epoch [16/20], Step [100/282], Loss: 0.0001, Accuracy: 100.00%\n",
      "Epoch [16/20], Step [150/282], Loss: 0.0001, Accuracy: 100.00%\n",
      "Epoch [16/20], Step [200/282], Loss: 0.0000, Accuracy: 100.00%\n",
      "Epoch [16/20], Step [250/282], Loss: 0.0000, Accuracy: 100.00%\n",
      "Epoch [17/20], Step [50/282], Loss: 0.0000, Accuracy: 100.00%\n",
      "Epoch [17/20], Step [100/282], Loss: 0.0000, Accuracy: 100.00%\n",
      "Epoch [17/20], Step [150/282], Loss: 0.0000, Accuracy: 100.00%\n",
      "Epoch [17/20], Step [200/282], Loss: 0.0000, Accuracy: 100.00%\n",
      "Epoch [17/20], Step [250/282], Loss: 0.0000, Accuracy: 100.00%\n",
      "Epoch [18/20], Step [50/282], Loss: 0.0000, Accuracy: 100.00%\n",
      "Epoch [18/20], Step [100/282], Loss: 0.0000, Accuracy: 100.00%\n",
      "Epoch [18/20], Step [150/282], Loss: 0.0001, Accuracy: 100.00%\n",
      "Epoch [18/20], Step [200/282], Loss: 0.0003, Accuracy: 100.00%\n",
      "Epoch [18/20], Step [250/282], Loss: 0.0001, Accuracy: 100.00%\n",
      "Epoch [19/20], Step [50/282], Loss: 0.0000, Accuracy: 100.00%\n",
      "Epoch [19/20], Step [100/282], Loss: 0.0000, Accuracy: 100.00%\n",
      "Epoch [19/20], Step [150/282], Loss: 0.0000, Accuracy: 100.00%\n",
      "Epoch [19/20], Step [200/282], Loss: 0.0000, Accuracy: 100.00%\n",
      "Epoch [19/20], Step [250/282], Loss: 0.0001, Accuracy: 100.00%\n",
      "Epoch [20/20], Step [50/282], Loss: 0.0039, Accuracy: 100.00%\n",
      "Epoch [20/20], Step [100/282], Loss: 0.0008, Accuracy: 100.00%\n",
      "Epoch [20/20], Step [150/282], Loss: 0.0006, Accuracy: 100.00%\n",
      "Epoch [20/20], Step [200/282], Loss: 0.0004, Accuracy: 100.00%\n",
      "Epoch [20/20], Step [250/282], Loss: 0.0002, Accuracy: 100.00%\n",
      "######## Training Finished in 920.9835691452026 seconds ###########\n"
     ]
    }
   ],
   "source": [
    "device = torch.device(\"cuda:0\" if torch.cuda.is_available() else \"cpu\")\n",
    "print(\"Device: {}\".format(device))\n",
    "model.to(device)\n",
    "\n",
    "num_epochs = 20\n",
    "total_steps = len(loader_train)\n",
    "\n",
    "t1 = time.time()\n",
    "\n",
    "for epoch in range(num_epochs):\n",
    "    for i, data in enumerate(loader_train):\n",
    "        images, labels = data[0].to(device), data[1].to(device)\n",
    "        # Forward pass\n",
    "        outputs = model(images)\n",
    "        loss = criterion(outputs, labels)\n",
    "        # Backprop and optimisation\n",
    "        optimizer.zero_grad()\n",
    "        loss.backward()\n",
    "        optimizer.step()\n",
    "        # Train accuracy\n",
    "        total = labels.size(0)\n",
    "        _,predicted = torch.max(outputs.data, 1)\n",
    "        correct = (predicted == labels).sum().item()\n",
    "        if (i + 1) % 50 == 0:\n",
    "            print('Epoch [{}/{}], Step [{}/{}], Loss: {:.4f}, Accuracy: {:.2f}%'\n",
    "                .format(epoch + 1, num_epochs, i + 1, total_steps, loss.item(),\n",
    "                    (correct / total) * 100))\n",
    "            \n",
    "print(\"######## Training Finished in {} seconds ###########\".format(time.time()-t1))"
   ]
  },
  {
   "cell_type": "code",
   "execution_count": 1,
   "metadata": {
    "id": "5nCWbn99pqFN"
   },
   "outputs": [
    {
     "ename": "NameError",
     "evalue": "name 'model' is not defined",
     "output_type": "error",
     "traceback": [
      "\u001b[1;31m---------------------------------------------------------------------------\u001b[0m",
      "\u001b[1;31mNameError\u001b[0m                                 Traceback (most recent call last)",
      "Cell \u001b[1;32mIn[1], line 1\u001b[0m\n\u001b[1;32m----> 1\u001b[0m \u001b[43mmodel\u001b[49m\u001b[38;5;241m.\u001b[39meval()\n\u001b[0;32m      2\u001b[0m \u001b[38;5;28;01mwith\u001b[39;00m torch\u001b[38;5;241m.\u001b[39mno_grad():\n\u001b[0;32m      3\u001b[0m   correct \u001b[38;5;241m=\u001b[39m \u001b[38;5;241m0\u001b[39m\n",
      "\u001b[1;31mNameError\u001b[0m: name 'model' is not defined"
     ]
    }
   ],
   "source": [
    "model.eval()\n",
    "with torch.no_grad():\n",
    "  correct = 0\n",
    "  total=0\n",
    "  for image,label in loader_test:\n",
    "    images,label=images.to(d),labels.to(d)\n",
    "    result=model(images)\n",
    "    _,predicted=torch.max(result.data,1)\n",
    "    total=total+labels.size(0)\n",
    "    correct=correct+(predicted==labels).sum().items()\n",
    "    print(f'Accuracy {100 * correct / total:.2f}%')\n",
    " \n",
    "\n"
   ]
  },
  {
   "cell_type": "code",
   "execution_count": null,
   "metadata": {},
   "outputs": [],
   "source": []
  }
 ],
 "metadata": {
  "colab": {
   "provenance": []
  },
  "kernelspec": {
   "display_name": "Python 3 (ipykernel)",
   "language": "python",
   "name": "python3"
  },
  "language_info": {
   "codemirror_mode": {
    "name": "ipython",
    "version": 3
   },
   "file_extension": ".py",
   "mimetype": "text/x-python",
   "name": "python",
   "nbconvert_exporter": "python",
   "pygments_lexer": "ipython3",
   "version": "3.9.2rc1"
  }
 },
 "nbformat": 4,
 "nbformat_minor": 1
}
